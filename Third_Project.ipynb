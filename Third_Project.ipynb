{
  "nbformat": 4,
  "nbformat_minor": 0,
  "metadata": {
    "colab": {
      "provenance": [],
      "authorship_tag": "ABX9TyMchpDPjwcX/zgMLSeE8aPL",
      "include_colab_link": true
    },
    "kernelspec": {
      "name": "python3",
      "display_name": "Python 3"
    },
    "language_info": {
      "name": "python"
    }
  },
  "cells": [
    {
      "cell_type": "markdown",
      "metadata": {
        "id": "view-in-github",
        "colab_type": "text"
      },
      "source": [
        "<a href=\"https://colab.research.google.com/github/arbakaydemir/PySparkCommands/blob/main/Third_Project.ipynb\" target=\"_parent\"><img src=\"https://colab.research.google.com/assets/colab-badge.svg\" alt=\"Open In Colab\"/></a>"
      ]
    },
    {
      "cell_type": "markdown",
      "source": [
        "## Introduction\n",
        "\n",
        "### Overview of the Dataset\n",
        "\n",
        "The `dataset.json` file contains comprehensive data on the population statistics of various countries around the world. This dataset includes key demographic and socio-economic indicators for each country, providing valuable insights into global population trends.\n",
        "\n",
        "### Dataset Description\n",
        "\n",
        "The dataset comprises the following columns:\n",
        "\n",
        "- **position**: The rank of the country based on its population size.\n",
        "- **country**: The name of the country.\n",
        "- **population**: The total population of the country.\n",
        "- **yearly_change**: The annual percentage change in the population.\n",
        "- **net_change**: The net change in the population over the past year.\n",
        "- **density_per_square_km**: The population density, measured as the number of people per square kilometer.\n",
        "- **land_area_in_square_km**: The total land area of the country in square kilometers.\n",
        "- **migrants_net**: The net number of migrants, indicating the difference between the number of people entering and leaving the country.\n",
        "- **fertility_rate**: The average number of children born to a woman over her lifetime.\n",
        "- **median_age**: The median age of the population.\n",
        "- **urban_population**: The percentage of the population living in urban areas.\n",
        "- **world_share**: The percentage of the world's population that resides in the country.\n",
        "\n",
        "### Purpose of the Dataset\n",
        "\n",
        "This dataset is intended for use in demographic analysis, population studies, and socio-economic research. It can be utilized to:\n",
        "\n",
        "- Analyze population growth trends and patterns.\n",
        "- Study the impact of migration on population dynamics.\n",
        "- Examine the relationship between population density and land area.\n",
        "- Investigate fertility rates and their implications for future population growth.\n",
        "- Explore the distribution of urban and rural populations"
      ],
      "metadata": {
        "id": "ewFy0XhatiVA"
      }
    },
    {
      "cell_type": "markdown",
      "source": [
        "# Install and Import necessary Libraries and Pyspark"
      ],
      "metadata": {
        "id": "Ov43opE3WrIb"
      }
    },
    {
      "cell_type": "code",
      "execution_count": 3,
      "metadata": {
        "id": "pB5E8hTkEpBo",
        "colab": {
          "base_uri": "https://localhost:8080/"
        },
        "outputId": "99959900-2e0d-485b-c2e1-a0f0550e6391"
      },
      "outputs": [
        {
          "output_type": "stream",
          "name": "stdout",
          "text": [
            "Requirement already satisfied: pyspark in /usr/local/lib/python3.11/dist-packages (3.5.4)\n",
            "Requirement already satisfied: py4j==0.10.9.7 in /usr/local/lib/python3.11/dist-packages (from pyspark) (0.10.9.7)\n"
          ]
        }
      ],
      "source": [
        "# Install PySpark in Google Colab\n",
        "!pip install pyspark\n",
        "\n",
        "#Import the pySpark\n",
        "import pyspark"
      ]
    },
    {
      "cell_type": "code",
      "source": [
        "#Import necessary libraries\n",
        "from pyspark.sql import SparkSession\n",
        "from pyspark.sql.functions import *\n",
        "\n",
        "#Creating a Spark Session\n",
        "spark = SparkSession.builder.appName(\"Practise_PySpark\").getOrCreate()"
      ],
      "metadata": {
        "id": "VcpViFcVFScO"
      },
      "execution_count": 4,
      "outputs": []
    },
    {
      "cell_type": "code",
      "source": [
        "#Mounting google drive to access dataset\n",
        "from google.colab import drive\n",
        "\n",
        "drive.mount('/content/gdrive')"
      ],
      "metadata": {
        "colab": {
          "base_uri": "https://localhost:8080/"
        },
        "id": "cPdBlLhAGg-M",
        "outputId": "0e8e4a63-66db-4dd9-911f-a4ac95c7d99a"
      },
      "execution_count": 5,
      "outputs": [
        {
          "output_type": "stream",
          "name": "stdout",
          "text": [
            "Mounted at /content/gdrive\n"
          ]
        }
      ]
    },
    {
      "cell_type": "markdown",
      "source": [
        "## Load a JSON File"
      ],
      "metadata": {
        "id": "vnXPq-JHVEJX"
      }
    },
    {
      "cell_type": "code",
      "source": [
        "#Loading the dataset\n",
        "file_path = \"/content/gdrive/MyDrive/Colab Notebooks/Third Project/dataset.json\"\n",
        "\n",
        "# Read the json file into a DataFrame\n",
        "df = spark.read.option(\"multiline\",\"true\").json(file_path)"
      ],
      "metadata": {
        "id": "2buLviV2RfjI"
      },
      "execution_count": 6,
      "outputs": []
    },
    {
      "cell_type": "code",
      "source": [
        "# Display the DataFrame\n",
        "df.show()"
      ],
      "metadata": {
        "colab": {
          "base_uri": "https://localhost:8080/"
        },
        "id": "dr6bxxOrG3lQ",
        "outputId": "43e2baf7-34ed-4eb3-e7ba-38ebf0acf679"
      },
      "execution_count": 7,
      "outputs": [
        {
          "output_type": "stream",
          "name": "stdout",
          "text": [
            "+-------------+---------------------+--------------+---------------------+----------+------------+----------+-------------+--------+----------------+-----------+-------------+\n",
            "|      country|density_per_square_km|fertility_rate|land_are_in_square_km|median_age|migrants_net|net_change|   population|position|urban_population|world_share|yearly_change|\n",
            "+-------------+---------------------+--------------+---------------------+----------+------------+----------+-------------+--------+----------------+-----------+-------------+\n",
            "|        China|                  153|           1.7|            9,388,211|        38|    -348,399| 5,540,090|1,439,323,776|       1|            61 %|    18.47 %|       0.39 %|\n",
            "|        India|                  464|           2.2|            2,973,190|        28|    -532,687|13,586,631|1,380,004,385|       2|            35 %|    17.70 %|       0.99 %|\n",
            "|United States|                   36|           1.8|            9,147,420|        38|     954,806| 1,937,734|  331,002,651|       3|            83 %|     4.25 %|       0.59 %|\n",
            "|    Indonesia|                  151|           2.3|            1,811,570|        30|     -98,955| 2,898,047|  273,523,615|       4|            56 %|     3.51 %|       1.07 %|\n",
            "|     Pakistan|                  287|           3.6|              770,880|        23|    -233,379| 4,327,022|  220,892,340|       5|            35 %|     2.83 %|       2.00 %|\n",
            "|       Brazil|                   25|           1.7|            8,358,140|        33|      21,200| 1,509,890|  212,559,417|       6|            88 %|     2.73 %|       0.72 %|\n",
            "|      Nigeria|                  226|           5.4|              910,770|        18|     -60,000| 5,175,990|  206,139,589|       7|            52 %|     2.64 %|       2.58 %|\n",
            "|   Bangladesh|                1,265|           2.1|              130,170|        28|    -369,501| 1,643,222|  164,689,383|       8|            39 %|     2.11 %|       1.01 %|\n",
            "|       Russia|                    9|           1.8|           16,376,870|        40|     182,456|    62,206|  145,934,462|       9|            74 %|     1.87 %|       0.04 %|\n",
            "|       Mexico|                   66|           2.1|            1,943,950|        29|     -60,000| 1,357,224|  128,932,753|      10|            84 %|     1.65 %|       1.06 %|\n",
            "|        Japan|                  347|           1.4|              364,555|        48|      71,560|  -383,840|  126,476,461|      11|            92 %|     1.62 %|      -0.30 %|\n",
            "|     Ethiopia|                  115|           4.3|            1,000,000|        19|      30,000| 2,884,858|  114,963,588|      12|            21 %|     1.47 %|       2.57 %|\n",
            "|  Philippines|                  368|           2.6|              298,170|        26|     -67,152| 1,464,463|  109,581,078|      13|            47 %|     1.41 %|       1.35 %|\n",
            "|        Egypt|                  103|           3.3|              995,450|        25|     -38,033| 1,946,331|  102,334,404|      14|            43 %|     1.31 %|       1.94 %|\n",
            "|      Vietnam|                  314|           2.1|              310,070|        32|     -80,000|   876,473|   97,338,579|      15|            38 %|     1.25 %|       0.91 %|\n",
            "|     DR Congo|                   40|           6.0|            2,267,050|        17|      23,861| 2,770,836|   89,561,403|      16|            46 %|     1.15 %|       3.19 %|\n",
            "|       Turkey|                  110|           2.1|              769,630|        32|     283,922|   909,452|   84,339,067|      17|            76 %|     1.08 %|       1.09 %|\n",
            "|         Iran|                   52|           2.2|            1,628,550|        32|     -55,000| 1,079,043|   83,992,949|      18|            76 %|     1.08 %|       1.30 %|\n",
            "|      Germany|                  240|           1.6|              348,560|        46|     543,822|   266,897|   83,783,942|      19|            76 %|     1.07 %|       0.32 %|\n",
            "|     Thailand|                  137|           1.5|              510,890|        40|      19,444|   174,396|   69,799,978|      20|            51 %|     0.90 %|       0.25 %|\n",
            "+-------------+---------------------+--------------+---------------------+----------+------------+----------+-------------+--------+----------------+-----------+-------------+\n",
            "only showing top 20 rows\n",
            "\n"
          ]
        }
      ]
    },
    {
      "cell_type": "code",
      "source": [
        "df.count()"
      ],
      "metadata": {
        "colab": {
          "base_uri": "https://localhost:8080/"
        },
        "id": "92Y-pq07uqiw",
        "outputId": "d20d7126-ed90-4c39-c1db-b5ac32caf904"
      },
      "execution_count": 57,
      "outputs": [
        {
          "output_type": "execute_result",
          "data": {
            "text/plain": [
              "235"
            ]
          },
          "metadata": {},
          "execution_count": 57
        }
      ]
    },
    {
      "cell_type": "code",
      "source": [
        "df.describe().show()"
      ],
      "metadata": {
        "colab": {
          "base_uri": "https://localhost:8080/"
        },
        "id": "b30Q7KFFvClY",
        "outputId": "f95f968b-0fac-418c-f063-c93994148c90"
      },
      "execution_count": 59,
      "outputs": [
        {
          "output_type": "stream",
          "name": "stdout",
          "text": [
            "+-------+-----------+---------------------+------------------+---------------------+------------------+-------------------+------------------+----------+-----------------+----------------+-----------+-------------+\n",
            "|summary|    country|density_per_square_km|    fertility_rate|land_are_in_square_km|        median_age|       migrants_net|        net_change|population|         position|urban_population|world_share|yearly_change|\n",
            "+-------+-----------+---------------------+------------------+---------------------+------------------+-------------------+------------------+----------+-----------------+----------------+-----------+-------------+\n",
            "|  count|        235|                  235|               235|                  235|               235|                235|               235|       235|              235|             235|        235|          235|\n",
            "|   mean|       NULL|   151.39461883408072|2.6930348258706465|    326.2692307692308|30.606965174129353|-144.07407407407408|223.44897959183675|     801.0|            118.0|            NULL|       NULL|         NULL|\n",
            "| stddev|       NULL|   172.40792389900432|1.2644964388170867|    263.0502908291094| 9.127965339755685|  528.4943727177254| 291.1825072888486|      NULL|67.98284097231203|            NULL|       NULL|         NULL|\n",
            "|    min|Afghanistan|                    0|               1.1|                    0|                15|                   |               -10| 1,160,164|                1|             0 %|     0.00 %|      -0.03 %|\n",
            "|    max|   Zimbabwe|                   99|              N.A.|              995,450|              N.A.|             99,069|                98|   988,000|               99|            N.A.|     4.25 %|       3.84 %|\n",
            "+-------+-----------+---------------------+------------------+---------------------+------------------+-------------------+------------------+----------+-----------------+----------------+-----------+-------------+\n",
            "\n"
          ]
        }
      ]
    },
    {
      "cell_type": "code",
      "source": [
        "display(df)"
      ],
      "metadata": {
        "colab": {
          "base_uri": "https://localhost:8080/",
          "height": 69
        },
        "id": "CiBB_tJqUifC",
        "outputId": "4930305b-8659-427b-9cb8-d9c95cd72419"
      },
      "execution_count": 61,
      "outputs": [
        {
          "output_type": "display_data",
          "data": {
            "text/plain": [
              "DataFrame[country: string, density_per_square_km: string, fertility_rate: string, land_are_in_square_km: string, median_age: string, migrants_net: string, net_change: string, population: string, position: string, urban_population: string, world_share: string, yearly_change: string]"
            ]
          },
          "metadata": {}
        }
      ]
    },
    {
      "cell_type": "code",
      "source": [
        "df.distinct().count()"
      ],
      "metadata": {
        "colab": {
          "base_uri": "https://localhost:8080/"
        },
        "id": "9pe1Gn6G2iQx",
        "outputId": "9e77a894-f334-404f-d0b6-cc75204ad6c4"
      },
      "execution_count": 62,
      "outputs": [
        {
          "output_type": "execute_result",
          "data": {
            "text/plain": [
              "235"
            ]
          },
          "metadata": {},
          "execution_count": 62
        }
      ]
    },
    {
      "cell_type": "code",
      "source": [
        "df.printSchema()"
      ],
      "metadata": {
        "colab": {
          "base_uri": "https://localhost:8080/"
        },
        "id": "WraSVhDJtHYi",
        "outputId": "eb04997b-6aee-41d5-f68e-7a7754676e4b"
      },
      "execution_count": 56,
      "outputs": [
        {
          "output_type": "stream",
          "name": "stdout",
          "text": [
            "root\n",
            " |-- country: string (nullable = true)\n",
            " |-- density_per_square_km: string (nullable = true)\n",
            " |-- fertility_rate: string (nullable = true)\n",
            " |-- land_are_in_square_km: string (nullable = true)\n",
            " |-- median_age: string (nullable = true)\n",
            " |-- migrants_net: string (nullable = true)\n",
            " |-- net_change: string (nullable = true)\n",
            " |-- population: string (nullable = true)\n",
            " |-- position: string (nullable = true)\n",
            " |-- urban_population: string (nullable = true)\n",
            " |-- world_share: string (nullable = true)\n",
            " |-- yearly_change: string (nullable = true)\n",
            "\n"
          ]
        }
      ]
    },
    {
      "cell_type": "markdown",
      "source": [
        "# DataFrame Operations"
      ],
      "metadata": {
        "id": "fMWLEl-vVTgt"
      }
    },
    {
      "cell_type": "markdown",
      "source": [
        "Drop a Column"
      ],
      "metadata": {
        "id": "R5Qp6Pgibt1g"
      }
    },
    {
      "cell_type": "code",
      "source": [
        "df_new = df.drop(\"density_per_square_km\")\n",
        "df_new.show()"
      ],
      "metadata": {
        "colab": {
          "base_uri": "https://localhost:8080/"
        },
        "id": "Ara3iIhQaaE6",
        "outputId": "d42a9041-f2e5-43df-942a-7ec8bf1ba19b"
      },
      "execution_count": 9,
      "outputs": [
        {
          "output_type": "stream",
          "name": "stdout",
          "text": [
            "+-------------+--------------+---------------------+----------+------------+----------+-------------+--------+----------------+-----------+-------------+\n",
            "|      country|fertility_rate|land_are_in_square_km|median_age|migrants_net|net_change|   population|position|urban_population|world_share|yearly_change|\n",
            "+-------------+--------------+---------------------+----------+------------+----------+-------------+--------+----------------+-----------+-------------+\n",
            "|        China|           1.7|            9,388,211|        38|    -348,399| 5,540,090|1,439,323,776|       1|            61 %|    18.47 %|       0.39 %|\n",
            "|        India|           2.2|            2,973,190|        28|    -532,687|13,586,631|1,380,004,385|       2|            35 %|    17.70 %|       0.99 %|\n",
            "|United States|           1.8|            9,147,420|        38|     954,806| 1,937,734|  331,002,651|       3|            83 %|     4.25 %|       0.59 %|\n",
            "|    Indonesia|           2.3|            1,811,570|        30|     -98,955| 2,898,047|  273,523,615|       4|            56 %|     3.51 %|       1.07 %|\n",
            "|     Pakistan|           3.6|              770,880|        23|    -233,379| 4,327,022|  220,892,340|       5|            35 %|     2.83 %|       2.00 %|\n",
            "|       Brazil|           1.7|            8,358,140|        33|      21,200| 1,509,890|  212,559,417|       6|            88 %|     2.73 %|       0.72 %|\n",
            "|      Nigeria|           5.4|              910,770|        18|     -60,000| 5,175,990|  206,139,589|       7|            52 %|     2.64 %|       2.58 %|\n",
            "|   Bangladesh|           2.1|              130,170|        28|    -369,501| 1,643,222|  164,689,383|       8|            39 %|     2.11 %|       1.01 %|\n",
            "|       Russia|           1.8|           16,376,870|        40|     182,456|    62,206|  145,934,462|       9|            74 %|     1.87 %|       0.04 %|\n",
            "|       Mexico|           2.1|            1,943,950|        29|     -60,000| 1,357,224|  128,932,753|      10|            84 %|     1.65 %|       1.06 %|\n",
            "|        Japan|           1.4|              364,555|        48|      71,560|  -383,840|  126,476,461|      11|            92 %|     1.62 %|      -0.30 %|\n",
            "|     Ethiopia|           4.3|            1,000,000|        19|      30,000| 2,884,858|  114,963,588|      12|            21 %|     1.47 %|       2.57 %|\n",
            "|  Philippines|           2.6|              298,170|        26|     -67,152| 1,464,463|  109,581,078|      13|            47 %|     1.41 %|       1.35 %|\n",
            "|        Egypt|           3.3|              995,450|        25|     -38,033| 1,946,331|  102,334,404|      14|            43 %|     1.31 %|       1.94 %|\n",
            "|      Vietnam|           2.1|              310,070|        32|     -80,000|   876,473|   97,338,579|      15|            38 %|     1.25 %|       0.91 %|\n",
            "|     DR Congo|           6.0|            2,267,050|        17|      23,861| 2,770,836|   89,561,403|      16|            46 %|     1.15 %|       3.19 %|\n",
            "|       Turkey|           2.1|              769,630|        32|     283,922|   909,452|   84,339,067|      17|            76 %|     1.08 %|       1.09 %|\n",
            "|         Iran|           2.2|            1,628,550|        32|     -55,000| 1,079,043|   83,992,949|      18|            76 %|     1.08 %|       1.30 %|\n",
            "|      Germany|           1.6|              348,560|        46|     543,822|   266,897|   83,783,942|      19|            76 %|     1.07 %|       0.32 %|\n",
            "|     Thailand|           1.5|              510,890|        40|      19,444|   174,396|   69,799,978|      20|            51 %|     0.90 %|       0.25 %|\n",
            "+-------------+--------------+---------------------+----------+------------+----------+-------------+--------+----------------+-----------+-------------+\n",
            "only showing top 20 rows\n",
            "\n"
          ]
        }
      ]
    },
    {
      "cell_type": "markdown",
      "source": [
        "Change a column name"
      ],
      "metadata": {
        "id": "JswJ5yjvbzUQ"
      }
    },
    {
      "cell_type": "code",
      "source": [
        "df_1 = df.withColumnRenamed(\"country\", \"Country\")\n",
        "df_1.show()"
      ],
      "metadata": {
        "colab": {
          "base_uri": "https://localhost:8080/"
        },
        "id": "dKgCuSIib1aY",
        "outputId": "c243306e-c57c-4288-ce02-30afdb7b9d96"
      },
      "execution_count": 10,
      "outputs": [
        {
          "output_type": "stream",
          "name": "stdout",
          "text": [
            "+-------------+---------------------+--------------+---------------------+----------+------------+----------+-------------+--------+----------------+-----------+-------------+\n",
            "|      Country|density_per_square_km|fertility_rate|land_are_in_square_km|median_age|migrants_net|net_change|   population|position|urban_population|world_share|yearly_change|\n",
            "+-------------+---------------------+--------------+---------------------+----------+------------+----------+-------------+--------+----------------+-----------+-------------+\n",
            "|        China|                  153|           1.7|            9,388,211|        38|    -348,399| 5,540,090|1,439,323,776|       1|            61 %|    18.47 %|       0.39 %|\n",
            "|        India|                  464|           2.2|            2,973,190|        28|    -532,687|13,586,631|1,380,004,385|       2|            35 %|    17.70 %|       0.99 %|\n",
            "|United States|                   36|           1.8|            9,147,420|        38|     954,806| 1,937,734|  331,002,651|       3|            83 %|     4.25 %|       0.59 %|\n",
            "|    Indonesia|                  151|           2.3|            1,811,570|        30|     -98,955| 2,898,047|  273,523,615|       4|            56 %|     3.51 %|       1.07 %|\n",
            "|     Pakistan|                  287|           3.6|              770,880|        23|    -233,379| 4,327,022|  220,892,340|       5|            35 %|     2.83 %|       2.00 %|\n",
            "|       Brazil|                   25|           1.7|            8,358,140|        33|      21,200| 1,509,890|  212,559,417|       6|            88 %|     2.73 %|       0.72 %|\n",
            "|      Nigeria|                  226|           5.4|              910,770|        18|     -60,000| 5,175,990|  206,139,589|       7|            52 %|     2.64 %|       2.58 %|\n",
            "|   Bangladesh|                1,265|           2.1|              130,170|        28|    -369,501| 1,643,222|  164,689,383|       8|            39 %|     2.11 %|       1.01 %|\n",
            "|       Russia|                    9|           1.8|           16,376,870|        40|     182,456|    62,206|  145,934,462|       9|            74 %|     1.87 %|       0.04 %|\n",
            "|       Mexico|                   66|           2.1|            1,943,950|        29|     -60,000| 1,357,224|  128,932,753|      10|            84 %|     1.65 %|       1.06 %|\n",
            "|        Japan|                  347|           1.4|              364,555|        48|      71,560|  -383,840|  126,476,461|      11|            92 %|     1.62 %|      -0.30 %|\n",
            "|     Ethiopia|                  115|           4.3|            1,000,000|        19|      30,000| 2,884,858|  114,963,588|      12|            21 %|     1.47 %|       2.57 %|\n",
            "|  Philippines|                  368|           2.6|              298,170|        26|     -67,152| 1,464,463|  109,581,078|      13|            47 %|     1.41 %|       1.35 %|\n",
            "|        Egypt|                  103|           3.3|              995,450|        25|     -38,033| 1,946,331|  102,334,404|      14|            43 %|     1.31 %|       1.94 %|\n",
            "|      Vietnam|                  314|           2.1|              310,070|        32|     -80,000|   876,473|   97,338,579|      15|            38 %|     1.25 %|       0.91 %|\n",
            "|     DR Congo|                   40|           6.0|            2,267,050|        17|      23,861| 2,770,836|   89,561,403|      16|            46 %|     1.15 %|       3.19 %|\n",
            "|       Turkey|                  110|           2.1|              769,630|        32|     283,922|   909,452|   84,339,067|      17|            76 %|     1.08 %|       1.09 %|\n",
            "|         Iran|                   52|           2.2|            1,628,550|        32|     -55,000| 1,079,043|   83,992,949|      18|            76 %|     1.08 %|       1.30 %|\n",
            "|      Germany|                  240|           1.6|              348,560|        46|     543,822|   266,897|   83,783,942|      19|            76 %|     1.07 %|       0.32 %|\n",
            "|     Thailand|                  137|           1.5|              510,890|        40|      19,444|   174,396|   69,799,978|      20|            51 %|     0.90 %|       0.25 %|\n",
            "+-------------+---------------------+--------------+---------------------+----------+------------+----------+-------------+--------+----------------+-----------+-------------+\n",
            "only showing top 20 rows\n",
            "\n"
          ]
        }
      ]
    },
    {
      "cell_type": "markdown",
      "source": [
        "Change multiple column names"
      ],
      "metadata": {
        "id": "azf7g330b_kH"
      }
    },
    {
      "cell_type": "code",
      "source": [
        "df_2 = df.withColumnRenamed(\"country\", \"Country\").withColumnRenamed(\n",
        "    \"density_per_square_km\", \"density_squarekm\"\n",
        ")\n",
        "df_2.show()"
      ],
      "metadata": {
        "colab": {
          "base_uri": "https://localhost:8080/"
        },
        "id": "vYkZ3hPrcAjg",
        "outputId": "709ece9c-3c23-4e9c-e93e-87263035f757"
      },
      "execution_count": 11,
      "outputs": [
        {
          "output_type": "stream",
          "name": "stdout",
          "text": [
            "+-------------+----------------+--------------+---------------------+----------+------------+----------+-------------+--------+----------------+-----------+-------------+\n",
            "|      Country|density_squarekm|fertility_rate|land_are_in_square_km|median_age|migrants_net|net_change|   population|position|urban_population|world_share|yearly_change|\n",
            "+-------------+----------------+--------------+---------------------+----------+------------+----------+-------------+--------+----------------+-----------+-------------+\n",
            "|        China|             153|           1.7|            9,388,211|        38|    -348,399| 5,540,090|1,439,323,776|       1|            61 %|    18.47 %|       0.39 %|\n",
            "|        India|             464|           2.2|            2,973,190|        28|    -532,687|13,586,631|1,380,004,385|       2|            35 %|    17.70 %|       0.99 %|\n",
            "|United States|              36|           1.8|            9,147,420|        38|     954,806| 1,937,734|  331,002,651|       3|            83 %|     4.25 %|       0.59 %|\n",
            "|    Indonesia|             151|           2.3|            1,811,570|        30|     -98,955| 2,898,047|  273,523,615|       4|            56 %|     3.51 %|       1.07 %|\n",
            "|     Pakistan|             287|           3.6|              770,880|        23|    -233,379| 4,327,022|  220,892,340|       5|            35 %|     2.83 %|       2.00 %|\n",
            "|       Brazil|              25|           1.7|            8,358,140|        33|      21,200| 1,509,890|  212,559,417|       6|            88 %|     2.73 %|       0.72 %|\n",
            "|      Nigeria|             226|           5.4|              910,770|        18|     -60,000| 5,175,990|  206,139,589|       7|            52 %|     2.64 %|       2.58 %|\n",
            "|   Bangladesh|           1,265|           2.1|              130,170|        28|    -369,501| 1,643,222|  164,689,383|       8|            39 %|     2.11 %|       1.01 %|\n",
            "|       Russia|               9|           1.8|           16,376,870|        40|     182,456|    62,206|  145,934,462|       9|            74 %|     1.87 %|       0.04 %|\n",
            "|       Mexico|              66|           2.1|            1,943,950|        29|     -60,000| 1,357,224|  128,932,753|      10|            84 %|     1.65 %|       1.06 %|\n",
            "|        Japan|             347|           1.4|              364,555|        48|      71,560|  -383,840|  126,476,461|      11|            92 %|     1.62 %|      -0.30 %|\n",
            "|     Ethiopia|             115|           4.3|            1,000,000|        19|      30,000| 2,884,858|  114,963,588|      12|            21 %|     1.47 %|       2.57 %|\n",
            "|  Philippines|             368|           2.6|              298,170|        26|     -67,152| 1,464,463|  109,581,078|      13|            47 %|     1.41 %|       1.35 %|\n",
            "|        Egypt|             103|           3.3|              995,450|        25|     -38,033| 1,946,331|  102,334,404|      14|            43 %|     1.31 %|       1.94 %|\n",
            "|      Vietnam|             314|           2.1|              310,070|        32|     -80,000|   876,473|   97,338,579|      15|            38 %|     1.25 %|       0.91 %|\n",
            "|     DR Congo|              40|           6.0|            2,267,050|        17|      23,861| 2,770,836|   89,561,403|      16|            46 %|     1.15 %|       3.19 %|\n",
            "|       Turkey|             110|           2.1|              769,630|        32|     283,922|   909,452|   84,339,067|      17|            76 %|     1.08 %|       1.09 %|\n",
            "|         Iran|              52|           2.2|            1,628,550|        32|     -55,000| 1,079,043|   83,992,949|      18|            76 %|     1.08 %|       1.30 %|\n",
            "|      Germany|             240|           1.6|              348,560|        46|     543,822|   266,897|   83,783,942|      19|            76 %|     1.07 %|       0.32 %|\n",
            "|     Thailand|             137|           1.5|              510,890|        40|      19,444|   174,396|   69,799,978|      20|            51 %|     0.90 %|       0.25 %|\n",
            "+-------------+----------------+--------------+---------------------+----------+------------+----------+-------------+--------+----------------+-----------+-------------+\n",
            "only showing top 20 rows\n",
            "\n"
          ]
        }
      ]
    },
    {
      "cell_type": "markdown",
      "source": [
        "pyspark.sql.DataFrame.withColumnsRenamed"
      ],
      "metadata": {
        "id": "4Whn1-D_d9T2"
      }
    },
    {
      "cell_type": "code",
      "source": [
        "df_3 = df.withColumnsRenamed(\n",
        "    {\"country\": \"Country\", \"density_per_square_km\": \"density_squarekm\"}\n",
        ")\n",
        "df_3.show()"
      ],
      "metadata": {
        "colab": {
          "base_uri": "https://localhost:8080/"
        },
        "id": "hBmVJdBSeA92",
        "outputId": "c0c1dca3-2e0b-4a5f-8f0c-2f1701ed1378"
      },
      "execution_count": 12,
      "outputs": [
        {
          "output_type": "stream",
          "name": "stdout",
          "text": [
            "+-------------+----------------+--------------+---------------------+----------+------------+----------+-------------+--------+----------------+-----------+-------------+\n",
            "|      Country|density_squarekm|fertility_rate|land_are_in_square_km|median_age|migrants_net|net_change|   population|position|urban_population|world_share|yearly_change|\n",
            "+-------------+----------------+--------------+---------------------+----------+------------+----------+-------------+--------+----------------+-----------+-------------+\n",
            "|        China|             153|           1.7|            9,388,211|        38|    -348,399| 5,540,090|1,439,323,776|       1|            61 %|    18.47 %|       0.39 %|\n",
            "|        India|             464|           2.2|            2,973,190|        28|    -532,687|13,586,631|1,380,004,385|       2|            35 %|    17.70 %|       0.99 %|\n",
            "|United States|              36|           1.8|            9,147,420|        38|     954,806| 1,937,734|  331,002,651|       3|            83 %|     4.25 %|       0.59 %|\n",
            "|    Indonesia|             151|           2.3|            1,811,570|        30|     -98,955| 2,898,047|  273,523,615|       4|            56 %|     3.51 %|       1.07 %|\n",
            "|     Pakistan|             287|           3.6|              770,880|        23|    -233,379| 4,327,022|  220,892,340|       5|            35 %|     2.83 %|       2.00 %|\n",
            "|       Brazil|              25|           1.7|            8,358,140|        33|      21,200| 1,509,890|  212,559,417|       6|            88 %|     2.73 %|       0.72 %|\n",
            "|      Nigeria|             226|           5.4|              910,770|        18|     -60,000| 5,175,990|  206,139,589|       7|            52 %|     2.64 %|       2.58 %|\n",
            "|   Bangladesh|           1,265|           2.1|              130,170|        28|    -369,501| 1,643,222|  164,689,383|       8|            39 %|     2.11 %|       1.01 %|\n",
            "|       Russia|               9|           1.8|           16,376,870|        40|     182,456|    62,206|  145,934,462|       9|            74 %|     1.87 %|       0.04 %|\n",
            "|       Mexico|              66|           2.1|            1,943,950|        29|     -60,000| 1,357,224|  128,932,753|      10|            84 %|     1.65 %|       1.06 %|\n",
            "|        Japan|             347|           1.4|              364,555|        48|      71,560|  -383,840|  126,476,461|      11|            92 %|     1.62 %|      -0.30 %|\n",
            "|     Ethiopia|             115|           4.3|            1,000,000|        19|      30,000| 2,884,858|  114,963,588|      12|            21 %|     1.47 %|       2.57 %|\n",
            "|  Philippines|             368|           2.6|              298,170|        26|     -67,152| 1,464,463|  109,581,078|      13|            47 %|     1.41 %|       1.35 %|\n",
            "|        Egypt|             103|           3.3|              995,450|        25|     -38,033| 1,946,331|  102,334,404|      14|            43 %|     1.31 %|       1.94 %|\n",
            "|      Vietnam|             314|           2.1|              310,070|        32|     -80,000|   876,473|   97,338,579|      15|            38 %|     1.25 %|       0.91 %|\n",
            "|     DR Congo|              40|           6.0|            2,267,050|        17|      23,861| 2,770,836|   89,561,403|      16|            46 %|     1.15 %|       3.19 %|\n",
            "|       Turkey|             110|           2.1|              769,630|        32|     283,922|   909,452|   84,339,067|      17|            76 %|     1.08 %|       1.09 %|\n",
            "|         Iran|              52|           2.2|            1,628,550|        32|     -55,000| 1,079,043|   83,992,949|      18|            76 %|     1.08 %|       1.30 %|\n",
            "|      Germany|             240|           1.6|              348,560|        46|     543,822|   266,897|   83,783,942|      19|            76 %|     1.07 %|       0.32 %|\n",
            "|     Thailand|             137|           1.5|              510,890|        40|      19,444|   174,396|   69,799,978|      20|            51 %|     0.90 %|       0.25 %|\n",
            "+-------------+----------------+--------------+---------------------+----------+------------+----------+-------------+--------+----------------+-----------+-------------+\n",
            "only showing top 20 rows\n",
            "\n"
          ]
        }
      ]
    },
    {
      "cell_type": "markdown",
      "source": [
        "# pyspark.sql.DataFrame.select🏨"
      ],
      "metadata": {
        "id": "bbMFfHS-fSN7"
      }
    },
    {
      "cell_type": "code",
      "source": [
        "df.select(\"country\").show()\n",
        "#This is useful when you'd like to select a single column"
      ],
      "metadata": {
        "colab": {
          "base_uri": "https://localhost:8080/"
        },
        "id": "K0xIgspvfsLU",
        "outputId": "0a2d61f4-7e1e-4f2a-9bd7-1e482044dcd5"
      },
      "execution_count": 13,
      "outputs": [
        {
          "output_type": "stream",
          "name": "stdout",
          "text": [
            "+-------------+\n",
            "|      country|\n",
            "+-------------+\n",
            "|        China|\n",
            "|        India|\n",
            "|United States|\n",
            "|    Indonesia|\n",
            "|     Pakistan|\n",
            "|       Brazil|\n",
            "|      Nigeria|\n",
            "|   Bangladesh|\n",
            "|       Russia|\n",
            "|       Mexico|\n",
            "|        Japan|\n",
            "|     Ethiopia|\n",
            "|  Philippines|\n",
            "|        Egypt|\n",
            "|      Vietnam|\n",
            "|     DR Congo|\n",
            "|       Turkey|\n",
            "|         Iran|\n",
            "|      Germany|\n",
            "|     Thailand|\n",
            "+-------------+\n",
            "only showing top 20 rows\n",
            "\n"
          ]
        }
      ]
    },
    {
      "cell_type": "code",
      "source": [
        "df.select('*').show()"
      ],
      "metadata": {
        "colab": {
          "base_uri": "https://localhost:8080/"
        },
        "id": "Q1DOSMoJf3Cj",
        "outputId": "a9572a47-e834-4222-e271-d572c1712875"
      },
      "execution_count": 14,
      "outputs": [
        {
          "output_type": "stream",
          "name": "stdout",
          "text": [
            "+-------------+---------------------+--------------+---------------------+----------+------------+----------+-------------+--------+----------------+-----------+-------------+\n",
            "|      country|density_per_square_km|fertility_rate|land_are_in_square_km|median_age|migrants_net|net_change|   population|position|urban_population|world_share|yearly_change|\n",
            "+-------------+---------------------+--------------+---------------------+----------+------------+----------+-------------+--------+----------------+-----------+-------------+\n",
            "|        China|                  153|           1.7|            9,388,211|        38|    -348,399| 5,540,090|1,439,323,776|       1|            61 %|    18.47 %|       0.39 %|\n",
            "|        India|                  464|           2.2|            2,973,190|        28|    -532,687|13,586,631|1,380,004,385|       2|            35 %|    17.70 %|       0.99 %|\n",
            "|United States|                   36|           1.8|            9,147,420|        38|     954,806| 1,937,734|  331,002,651|       3|            83 %|     4.25 %|       0.59 %|\n",
            "|    Indonesia|                  151|           2.3|            1,811,570|        30|     -98,955| 2,898,047|  273,523,615|       4|            56 %|     3.51 %|       1.07 %|\n",
            "|     Pakistan|                  287|           3.6|              770,880|        23|    -233,379| 4,327,022|  220,892,340|       5|            35 %|     2.83 %|       2.00 %|\n",
            "|       Brazil|                   25|           1.7|            8,358,140|        33|      21,200| 1,509,890|  212,559,417|       6|            88 %|     2.73 %|       0.72 %|\n",
            "|      Nigeria|                  226|           5.4|              910,770|        18|     -60,000| 5,175,990|  206,139,589|       7|            52 %|     2.64 %|       2.58 %|\n",
            "|   Bangladesh|                1,265|           2.1|              130,170|        28|    -369,501| 1,643,222|  164,689,383|       8|            39 %|     2.11 %|       1.01 %|\n",
            "|       Russia|                    9|           1.8|           16,376,870|        40|     182,456|    62,206|  145,934,462|       9|            74 %|     1.87 %|       0.04 %|\n",
            "|       Mexico|                   66|           2.1|            1,943,950|        29|     -60,000| 1,357,224|  128,932,753|      10|            84 %|     1.65 %|       1.06 %|\n",
            "|        Japan|                  347|           1.4|              364,555|        48|      71,560|  -383,840|  126,476,461|      11|            92 %|     1.62 %|      -0.30 %|\n",
            "|     Ethiopia|                  115|           4.3|            1,000,000|        19|      30,000| 2,884,858|  114,963,588|      12|            21 %|     1.47 %|       2.57 %|\n",
            "|  Philippines|                  368|           2.6|              298,170|        26|     -67,152| 1,464,463|  109,581,078|      13|            47 %|     1.41 %|       1.35 %|\n",
            "|        Egypt|                  103|           3.3|              995,450|        25|     -38,033| 1,946,331|  102,334,404|      14|            43 %|     1.31 %|       1.94 %|\n",
            "|      Vietnam|                  314|           2.1|              310,070|        32|     -80,000|   876,473|   97,338,579|      15|            38 %|     1.25 %|       0.91 %|\n",
            "|     DR Congo|                   40|           6.0|            2,267,050|        17|      23,861| 2,770,836|   89,561,403|      16|            46 %|     1.15 %|       3.19 %|\n",
            "|       Turkey|                  110|           2.1|              769,630|        32|     283,922|   909,452|   84,339,067|      17|            76 %|     1.08 %|       1.09 %|\n",
            "|         Iran|                   52|           2.2|            1,628,550|        32|     -55,000| 1,079,043|   83,992,949|      18|            76 %|     1.08 %|       1.30 %|\n",
            "|      Germany|                  240|           1.6|              348,560|        46|     543,822|   266,897|   83,783,942|      19|            76 %|     1.07 %|       0.32 %|\n",
            "|     Thailand|                  137|           1.5|              510,890|        40|      19,444|   174,396|   69,799,978|      20|            51 %|     0.90 %|       0.25 %|\n",
            "+-------------+---------------------+--------------+---------------------+----------+------------+----------+-------------+--------+----------------+-----------+-------------+\n",
            "only showing top 20 rows\n",
            "\n"
          ]
        }
      ]
    },
    {
      "cell_type": "code",
      "source": [
        "df.select([\"country\"]).show()\n",
        "#This is useful when you'd like to select a multiple columns"
      ],
      "metadata": {
        "colab": {
          "base_uri": "https://localhost:8080/"
        },
        "id": "1acPDIK2f-1M",
        "outputId": "4f39c25a-718d-4b4e-d391-9eea0154b382"
      },
      "execution_count": 15,
      "outputs": [
        {
          "output_type": "stream",
          "name": "stdout",
          "text": [
            "+-------------+\n",
            "|      country|\n",
            "+-------------+\n",
            "|        China|\n",
            "|        India|\n",
            "|United States|\n",
            "|    Indonesia|\n",
            "|     Pakistan|\n",
            "|       Brazil|\n",
            "|      Nigeria|\n",
            "|   Bangladesh|\n",
            "|       Russia|\n",
            "|       Mexico|\n",
            "|        Japan|\n",
            "|     Ethiopia|\n",
            "|  Philippines|\n",
            "|        Egypt|\n",
            "|      Vietnam|\n",
            "|     DR Congo|\n",
            "|       Turkey|\n",
            "|         Iran|\n",
            "|      Germany|\n",
            "|     Thailand|\n",
            "+-------------+\n",
            "only showing top 20 rows\n",
            "\n"
          ]
        }
      ]
    },
    {
      "cell_type": "code",
      "source": [
        "df.select([\"country\", \"density_per_square_km\"]).show()\n",
        "#Useful when you have a dynamic list of columns.\n",
        "\n",
        "#Can be easily modified programmatically."
      ],
      "metadata": {
        "colab": {
          "base_uri": "https://localhost:8080/"
        },
        "id": "qUV2b7UliCeC",
        "outputId": "69607672-d81a-425d-de09-241a8468534d"
      },
      "execution_count": 16,
      "outputs": [
        {
          "output_type": "stream",
          "name": "stdout",
          "text": [
            "+-------------+---------------------+\n",
            "|      country|density_per_square_km|\n",
            "+-------------+---------------------+\n",
            "|        China|                  153|\n",
            "|        India|                  464|\n",
            "|United States|                   36|\n",
            "|    Indonesia|                  151|\n",
            "|     Pakistan|                  287|\n",
            "|       Brazil|                   25|\n",
            "|      Nigeria|                  226|\n",
            "|   Bangladesh|                1,265|\n",
            "|       Russia|                    9|\n",
            "|       Mexico|                   66|\n",
            "|        Japan|                  347|\n",
            "|     Ethiopia|                  115|\n",
            "|  Philippines|                  368|\n",
            "|        Egypt|                  103|\n",
            "|      Vietnam|                  314|\n",
            "|     DR Congo|                   40|\n",
            "|       Turkey|                  110|\n",
            "|         Iran|                   52|\n",
            "|      Germany|                  240|\n",
            "|     Thailand|                  137|\n",
            "+-------------+---------------------+\n",
            "only showing top 20 rows\n",
            "\n"
          ]
        }
      ]
    },
    {
      "cell_type": "code",
      "source": [
        "df.select(\"country\", \"density_per_square_km\").show()\n",
        "#The columns are specified as multiple string arguments.\n",
        "\n",
        "#Convenient for hardcoding a fixed set of columns.\n",
        "\n",
        "#Slightly more concise for a small number of columns."
      ],
      "metadata": {
        "colab": {
          "base_uri": "https://localhost:8080/"
        },
        "id": "tuOtwLH8i06J",
        "outputId": "4d35a4c6-9526-4fff-bc5d-6463fc909995"
      },
      "execution_count": 17,
      "outputs": [
        {
          "output_type": "stream",
          "name": "stdout",
          "text": [
            "+-------------+---------------------+\n",
            "|      country|density_per_square_km|\n",
            "+-------------+---------------------+\n",
            "|        China|                  153|\n",
            "|        India|                  464|\n",
            "|United States|                   36|\n",
            "|    Indonesia|                  151|\n",
            "|     Pakistan|                  287|\n",
            "|       Brazil|                   25|\n",
            "|      Nigeria|                  226|\n",
            "|   Bangladesh|                1,265|\n",
            "|       Russia|                    9|\n",
            "|       Mexico|                   66|\n",
            "|        Japan|                  347|\n",
            "|     Ethiopia|                  115|\n",
            "|  Philippines|                  368|\n",
            "|        Egypt|                  103|\n",
            "|      Vietnam|                  314|\n",
            "|     DR Congo|                   40|\n",
            "|       Turkey|                  110|\n",
            "|         Iran|                   52|\n",
            "|      Germany|                  240|\n",
            "|     Thailand|                  137|\n",
            "+-------------+---------------------+\n",
            "only showing top 20 rows\n",
            "\n"
          ]
        }
      ]
    },
    {
      "cell_type": "markdown",
      "source": [
        "Below code adds 1000 to each row in density_per_square_km column"
      ],
      "metadata": {
        "id": "rvG-8iPHrcWg"
      }
    },
    {
      "cell_type": "code",
      "source": [
        "df.select(df[\"country\"],df[\"density_per_square_km\"]+1000).show()"
      ],
      "metadata": {
        "colab": {
          "base_uri": "https://localhost:8080/"
        },
        "id": "8u0zl4tsm7cW",
        "outputId": "97404b23-b24c-4c3c-8511-a8367637430c"
      },
      "execution_count": 18,
      "outputs": [
        {
          "output_type": "stream",
          "name": "stdout",
          "text": [
            "+-------------+------------------------------+\n",
            "|      country|(density_per_square_km + 1000)|\n",
            "+-------------+------------------------------+\n",
            "|        China|                        1153.0|\n",
            "|        India|                        1464.0|\n",
            "|United States|                        1036.0|\n",
            "|    Indonesia|                        1151.0|\n",
            "|     Pakistan|                        1287.0|\n",
            "|       Brazil|                        1025.0|\n",
            "|      Nigeria|                        1226.0|\n",
            "|   Bangladesh|                          NULL|\n",
            "|       Russia|                        1009.0|\n",
            "|       Mexico|                        1066.0|\n",
            "|        Japan|                        1347.0|\n",
            "|     Ethiopia|                        1115.0|\n",
            "|  Philippines|                        1368.0|\n",
            "|        Egypt|                        1103.0|\n",
            "|      Vietnam|                        1314.0|\n",
            "|     DR Congo|                        1040.0|\n",
            "|       Turkey|                        1110.0|\n",
            "|         Iran|                        1052.0|\n",
            "|      Germany|                        1240.0|\n",
            "|     Thailand|                        1137.0|\n",
            "+-------------+------------------------------+\n",
            "only showing top 20 rows\n",
            "\n"
          ]
        }
      ]
    },
    {
      "cell_type": "code",
      "source": [
        "df.select(df[\"country\"],(df[\"population\"] > 100000000).alias(\"is_population_greater_than_100M\")).show()"
      ],
      "metadata": {
        "colab": {
          "base_uri": "https://localhost:8080/"
        },
        "id": "E6w1IY5orqnA",
        "outputId": "02ccc325-6d9b-4adf-bfa2-4c7710e2622e"
      },
      "execution_count": 19,
      "outputs": [
        {
          "output_type": "stream",
          "name": "stdout",
          "text": [
            "+-------------+-------------------------------+\n",
            "|      country|is_population_greater_than_100M|\n",
            "+-------------+-------------------------------+\n",
            "|        China|                           NULL|\n",
            "|        India|                           NULL|\n",
            "|United States|                           NULL|\n",
            "|    Indonesia|                           NULL|\n",
            "|     Pakistan|                           NULL|\n",
            "|       Brazil|                           NULL|\n",
            "|      Nigeria|                           NULL|\n",
            "|   Bangladesh|                           NULL|\n",
            "|       Russia|                           NULL|\n",
            "|       Mexico|                           NULL|\n",
            "|        Japan|                           NULL|\n",
            "|     Ethiopia|                           NULL|\n",
            "|  Philippines|                           NULL|\n",
            "|        Egypt|                           NULL|\n",
            "|      Vietnam|                           NULL|\n",
            "|     DR Congo|                           NULL|\n",
            "|       Turkey|                           NULL|\n",
            "|         Iran|                           NULL|\n",
            "|      Germany|                           NULL|\n",
            "|     Thailand|                           NULL|\n",
            "+-------------+-------------------------------+\n",
            "only showing top 20 rows\n",
            "\n"
          ]
        }
      ]
    },
    {
      "cell_type": "code",
      "source": [
        "df.select(col(\"country\"), (col(\"population\") > 100000000).alias(\"is_population_greater_than_100M\")).show()"
      ],
      "metadata": {
        "colab": {
          "base_uri": "https://localhost:8080/"
        },
        "id": "_0QnH1PZt3cj",
        "outputId": "920399d1-d4b8-4691-f9fc-02d2ebb6afb0"
      },
      "execution_count": 20,
      "outputs": [
        {
          "output_type": "stream",
          "name": "stdout",
          "text": [
            "+-------------+-------------------------------+\n",
            "|      country|is_population_greater_than_100M|\n",
            "+-------------+-------------------------------+\n",
            "|        China|                           NULL|\n",
            "|        India|                           NULL|\n",
            "|United States|                           NULL|\n",
            "|    Indonesia|                           NULL|\n",
            "|     Pakistan|                           NULL|\n",
            "|       Brazil|                           NULL|\n",
            "|      Nigeria|                           NULL|\n",
            "|   Bangladesh|                           NULL|\n",
            "|       Russia|                           NULL|\n",
            "|       Mexico|                           NULL|\n",
            "|        Japan|                           NULL|\n",
            "|     Ethiopia|                           NULL|\n",
            "|  Philippines|                           NULL|\n",
            "|        Egypt|                           NULL|\n",
            "|      Vietnam|                           NULL|\n",
            "|     DR Congo|                           NULL|\n",
            "|       Turkey|                           NULL|\n",
            "|         Iran|                           NULL|\n",
            "|      Germany|                           NULL|\n",
            "|     Thailand|                           NULL|\n",
            "+-------------+-------------------------------+\n",
            "only showing top 20 rows\n",
            "\n"
          ]
        }
      ]
    },
    {
      "cell_type": "code",
      "source": [
        "df.printSchema()"
      ],
      "metadata": {
        "colab": {
          "base_uri": "https://localhost:8080/"
        },
        "id": "xbQ7l-O4uhHV",
        "outputId": "ec8c6c73-99b5-4155-86f1-26bef4a42405"
      },
      "execution_count": 21,
      "outputs": [
        {
          "output_type": "stream",
          "name": "stdout",
          "text": [
            "root\n",
            " |-- country: string (nullable = true)\n",
            " |-- density_per_square_km: string (nullable = true)\n",
            " |-- fertility_rate: string (nullable = true)\n",
            " |-- land_are_in_square_km: string (nullable = true)\n",
            " |-- median_age: string (nullable = true)\n",
            " |-- migrants_net: string (nullable = true)\n",
            " |-- net_change: string (nullable = true)\n",
            " |-- population: string (nullable = true)\n",
            " |-- position: string (nullable = true)\n",
            " |-- urban_population: string (nullable = true)\n",
            " |-- world_share: string (nullable = true)\n",
            " |-- yearly_change: string (nullable = true)\n",
            "\n"
          ]
        }
      ]
    },
    {
      "cell_type": "markdown",
      "source": [
        "## Data Cleaning Conditions;\n",
        "\n",
        "**In case of dot**:\n",
        "It is advisible to change datatype to double or float in case we have data such as '2.5' as string. We don't need to remove dots if we want to convert them to a numerical data type. The dot represents a decimal point, and retaining it is essential for preserving the fractional part of the number.\n",
        "\n",
        "**In case of comma**: Let's say we have comma in the data, and they intend to represent decimal points. In those conditions, we must convert commas to dots, and then we can cast the strings to a nmumerical data type such as float or double.\n",
        "\n",
        "\n",
        "**In case of percentage**: First we need to remove the percentage sign and then convert the remaining string to a numerical data type, such as float. After removing, we should divide the resulting number by 100 to convert it to a decimal. Check below example:\n",
        "\n",
        "`# Remove percentage sign and cast to float`\n",
        "\n",
        "`df = df.withColumn(\"value\", regexp_replace(col(\"value\"), \" %\", \"\").cast(\"float\") / 100`\n",
        "\n",
        "**In case of negative number**: In this condition, we don't need to remove any character. We can directly convert it to an integer.\n",
        "\n",
        "**In case of negative number contains comma:**\n",
        "1. Comma as Thousands Separator:\n",
        "If the comma is intended to separate thousands, you can remove the comma and then cast the string to an integer or float.\n",
        "\n",
        "`# Remove commas and cast to integer`\n",
        "\n",
        "`df = df.withColumn(\"value\", regexp_replace(col(\"value\"), \",\", \"\").cast(\"integer\"))`\n",
        "\n",
        "2. Comma as Decimal Separator:\n",
        "If the comma is meant to be a decimal point, you should replace the comma with a dot before casting it to a float or double.\n",
        "\n",
        "`# Replace commas with dots and cast to float`\n",
        "\n",
        "`df = df.withColumn(\"value\", regexp_replace(col(\"value\"), \",\", \".\").cast(\"float\"))`"
      ],
      "metadata": {
        "id": "JlBsZb_qybTF"
      }
    },
    {
      "cell_type": "markdown",
      "source": [
        "## Data Cleaning Conditions Part 2;\n",
        "**In case of plus sign with commas:**\n",
        "\n",
        "Remove the plus sign: The plus sign typically indicates that the value is greater than or equal to the specified number.\n",
        "\n",
        "Remove commas: If the commas are used as thousands separators.\n",
        "\n",
        "Cast to an appropriate numerical type: Depending on your need, you can cast it to an integer or float.\n",
        "\n",
        "`# Remove plus sign, remove commas, and cast to integer`\n",
        "`df = df.withColumn(\"value\", regexp_replace(col(\"value\"), \"[,+]\", \"\").cast(\"integer\"))`\n",
        "\n",
        "**Using different methods to do same job**\n",
        "\n",
        "`# Remove plus sign, remove commas, and cast to integer`\n",
        "`df = df.withColumn(\"value\", regexp_replace(col(\"value\"), \"[,+]\", \"\").cast(\"integer\"))`\n",
        "\n",
        "\n",
        "Alternatively, we can choose to use\n",
        "\n",
        "`df = df.withColumn(\"value\", regexp_replace(col(\"value\"), \"[^0-9]\", \"\").cast(\"integer\"))`\n",
        "\n",
        "[^0-9]:\n",
        "\n",
        "This regex pattern matches any character that is not a digit (0-9).\n",
        "\n",
        "The regexp_replace function will remove all non-digit characters from the \"value\" column.\n",
        "\n",
        "**Differences and Similarities:**\n",
        "\n",
        "**Differences:**\n",
        "\n",
        "Scope of Removal: The first snippet only removes commas and plus signs, whereas the second snippet removes all non-digit characters. This means the second snippet is more general and can handle various types of non-digit characters.\n",
        "\n",
        "Use Case: The first snippet is suitable for cases where you specifically want to remove commas and plus signs. The second snippet is suitable for cases where you want to remove any non-numeric characters, ensuring that only digits remain.\n",
        "\n",
        "**Similarities:**\n",
        "\n",
        "Outcome: For the specific examples given (like \"1,000,000+\"), both snippets will produce the same cleaned value (\"1000000\").\n",
        "\n",
        "Casting: Both snippets cast the cleaned value to an integer using the cast(\"integer\") method.\n",
        "\n",
        "**When to Use Each Snippet:**\n",
        "\n",
        "Use Code Snippet 1:\n",
        "\n",
        "When your data specifically contains commas and plus signs that you want to remove.\n",
        "\n",
        "Example: \"1,000,000+\" to \"1000000\".\n",
        "\n",
        "Use Code Snippet 2:\n",
        "\n",
        "When your data may contain various non-digit characters, and you want to ensure that only numeric digits remain.\n",
        "\n",
        "Example: \"1,000,000+ USD\" or \"3.5%\" to \"1000000\" and \"35\", respectively."
      ],
      "metadata": {
        "id": "yZlXASKrCgqy"
      }
    },
    {
      "cell_type": "markdown",
      "source": [
        "## Decision of integer, float and double\n",
        "\n",
        "**Precision:**\n",
        "\n",
        "Float: A float (single-precision) has a precision of about 7 decimal digits. It occupies 4 bytes (32 bits) of memory.\n",
        "\n",
        "Double: A double (double-precision) has a precision of about 15-16 decimal digits. It occupies 8 bytes (64 bits) of memory.\n",
        "\n",
        "**Range:**\n",
        "\n",
        "Float: Can represent a smaller range of values compared to double. It’s typically used for numerical data that does not require a high degree of precision.\n",
        "\n",
        "Double: Can represent a larger range of values and is used when precision is more critical.\n",
        "\n",
        "**Memory Usage:**\n",
        "\n",
        "Float: Requires less memory (4 bytes) and is faster to process.\n",
        "\n",
        "Double: Requires more memory (8 bytes) but offers greater precision and range.\n",
        "\n",
        "**When to Use Float:**\n",
        "Performance: If memory usage and performance are critical (e.g., large datasets or real-time processing) and the precision of 7 decimal digits is sufficient.\n",
        "\n",
        "Scientific Calculations: Often used in scientific calculations where a rough estimate is acceptable.\n",
        "\n",
        "**When to Use Double:**\n",
        "High Precision: When dealing with financial data, scientific calculations, or any application where precise decimal representation is important.\n",
        "\n",
        "Large Range: When the range of values is significant, such as in large numerical datasets.\n",
        "\n",
        "**When to use Integer:**\n",
        "Precision: Exact numerical values without fractional parts.\n",
        "\n",
        "Use Case: When your data consists of whole numbers.\n",
        "\n",
        "Example: Population counts, number of items, etc."
      ],
      "metadata": {
        "id": "xr7r9WbV4t1n"
      }
    },
    {
      "cell_type": "markdown",
      "source": [
        "## Data Cleaning Necessities:\n",
        "\n",
        "We need to do some cleaning for below issues.\n",
        "\n",
        "Let's list them\n",
        "\n",
        "*   Commas in \"density per square km\", \"land are in square km\", \"migrants_net\", \"net change\", \"population\"\n",
        "*   Percentage sign in \"urban population\", \"world share\" and \"yearly change\" columns."
      ],
      "metadata": {
        "id": "oc3oqPM1LYf8"
      }
    },
    {
      "cell_type": "code",
      "source": [
        "df.show()"
      ],
      "metadata": {
        "colab": {
          "base_uri": "https://localhost:8080/"
        },
        "id": "S_zF93Ocs-BL",
        "outputId": "4886ff4c-47b3-49d5-824a-22e035147c3e"
      },
      "execution_count": 22,
      "outputs": [
        {
          "output_type": "stream",
          "name": "stdout",
          "text": [
            "+-------------+---------------------+--------------+---------------------+----------+------------+----------+-------------+--------+----------------+-----------+-------------+\n",
            "|      country|density_per_square_km|fertility_rate|land_are_in_square_km|median_age|migrants_net|net_change|   population|position|urban_population|world_share|yearly_change|\n",
            "+-------------+---------------------+--------------+---------------------+----------+------------+----------+-------------+--------+----------------+-----------+-------------+\n",
            "|        China|                  153|           1.7|            9,388,211|        38|    -348,399| 5,540,090|1,439,323,776|       1|            61 %|    18.47 %|       0.39 %|\n",
            "|        India|                  464|           2.2|            2,973,190|        28|    -532,687|13,586,631|1,380,004,385|       2|            35 %|    17.70 %|       0.99 %|\n",
            "|United States|                   36|           1.8|            9,147,420|        38|     954,806| 1,937,734|  331,002,651|       3|            83 %|     4.25 %|       0.59 %|\n",
            "|    Indonesia|                  151|           2.3|            1,811,570|        30|     -98,955| 2,898,047|  273,523,615|       4|            56 %|     3.51 %|       1.07 %|\n",
            "|     Pakistan|                  287|           3.6|              770,880|        23|    -233,379| 4,327,022|  220,892,340|       5|            35 %|     2.83 %|       2.00 %|\n",
            "|       Brazil|                   25|           1.7|            8,358,140|        33|      21,200| 1,509,890|  212,559,417|       6|            88 %|     2.73 %|       0.72 %|\n",
            "|      Nigeria|                  226|           5.4|              910,770|        18|     -60,000| 5,175,990|  206,139,589|       7|            52 %|     2.64 %|       2.58 %|\n",
            "|   Bangladesh|                1,265|           2.1|              130,170|        28|    -369,501| 1,643,222|  164,689,383|       8|            39 %|     2.11 %|       1.01 %|\n",
            "|       Russia|                    9|           1.8|           16,376,870|        40|     182,456|    62,206|  145,934,462|       9|            74 %|     1.87 %|       0.04 %|\n",
            "|       Mexico|                   66|           2.1|            1,943,950|        29|     -60,000| 1,357,224|  128,932,753|      10|            84 %|     1.65 %|       1.06 %|\n",
            "|        Japan|                  347|           1.4|              364,555|        48|      71,560|  -383,840|  126,476,461|      11|            92 %|     1.62 %|      -0.30 %|\n",
            "|     Ethiopia|                  115|           4.3|            1,000,000|        19|      30,000| 2,884,858|  114,963,588|      12|            21 %|     1.47 %|       2.57 %|\n",
            "|  Philippines|                  368|           2.6|              298,170|        26|     -67,152| 1,464,463|  109,581,078|      13|            47 %|     1.41 %|       1.35 %|\n",
            "|        Egypt|                  103|           3.3|              995,450|        25|     -38,033| 1,946,331|  102,334,404|      14|            43 %|     1.31 %|       1.94 %|\n",
            "|      Vietnam|                  314|           2.1|              310,070|        32|     -80,000|   876,473|   97,338,579|      15|            38 %|     1.25 %|       0.91 %|\n",
            "|     DR Congo|                   40|           6.0|            2,267,050|        17|      23,861| 2,770,836|   89,561,403|      16|            46 %|     1.15 %|       3.19 %|\n",
            "|       Turkey|                  110|           2.1|              769,630|        32|     283,922|   909,452|   84,339,067|      17|            76 %|     1.08 %|       1.09 %|\n",
            "|         Iran|                   52|           2.2|            1,628,550|        32|     -55,000| 1,079,043|   83,992,949|      18|            76 %|     1.08 %|       1.30 %|\n",
            "|      Germany|                  240|           1.6|              348,560|        46|     543,822|   266,897|   83,783,942|      19|            76 %|     1.07 %|       0.32 %|\n",
            "|     Thailand|                  137|           1.5|              510,890|        40|      19,444|   174,396|   69,799,978|      20|            51 %|     0.90 %|       0.25 %|\n",
            "+-------------+---------------------+--------------+---------------------+----------+------------+----------+-------------+--------+----------------+-----------+-------------+\n",
            "only showing top 20 rows\n",
            "\n"
          ]
        }
      ]
    },
    {
      "cell_type": "code",
      "source": [
        "# Let's start with first cleaning necessity. Commas in \"density per square km\", \"land are in square km\", \"migrants_net\", \"net change\", \"population\"\n",
        "\n",
        "df_new1 = df.withColumn(\"density_per_square_km\", regexp_replace(col(\"density_per_square_km\"), \",\", \"\").cast(\"integer\"))\\\n",
        "          .withColumn(\"land_are_in_square_km\", regexp_replace(col(\"land_are_in_square_km\"), \",\", \"\").cast(\"integer\"))\\\n",
        "          .withColumn(\"migrants_net\", regexp_replace(col(\"migrants_net\"), \",\", \"\").cast(\"integer\"))\\\n",
        "          .withColumn(\"net_change\", regexp_replace(col(\"net_change\"), \",\", \"\").cast(\"integer\"))\\\n",
        "          .withColumn(\"population\", regexp_replace(col(\"population\"), \",\", \"\").cast(\"integer\"))\\\n",
        "          .withColumn(\"fertility_rate\", col(\"fertility_rate\").cast(\"float\"))"
      ],
      "metadata": {
        "id": "DOBq_7njNTln"
      },
      "execution_count": 23,
      "outputs": []
    },
    {
      "cell_type": "code",
      "source": [
        "df_new1.show()\n",
        "df_new1.printSchema()"
      ],
      "metadata": {
        "colab": {
          "base_uri": "https://localhost:8080/"
        },
        "id": "Giq9QCm_Pzl_",
        "outputId": "8b9d2268-1c8c-4994-8c3e-f3e698058cb3"
      },
      "execution_count": 24,
      "outputs": [
        {
          "output_type": "stream",
          "name": "stdout",
          "text": [
            "+-------------+---------------------+--------------+---------------------+----------+------------+----------+----------+--------+----------------+-----------+-------------+\n",
            "|      country|density_per_square_km|fertility_rate|land_are_in_square_km|median_age|migrants_net|net_change|population|position|urban_population|world_share|yearly_change|\n",
            "+-------------+---------------------+--------------+---------------------+----------+------------+----------+----------+--------+----------------+-----------+-------------+\n",
            "|        China|                  153|           1.7|              9388211|        38|     -348399|   5540090|1439323776|       1|            61 %|    18.47 %|       0.39 %|\n",
            "|        India|                  464|           2.2|              2973190|        28|     -532687|  13586631|1380004385|       2|            35 %|    17.70 %|       0.99 %|\n",
            "|United States|                   36|           1.8|              9147420|        38|      954806|   1937734| 331002651|       3|            83 %|     4.25 %|       0.59 %|\n",
            "|    Indonesia|                  151|           2.3|              1811570|        30|      -98955|   2898047| 273523615|       4|            56 %|     3.51 %|       1.07 %|\n",
            "|     Pakistan|                  287|           3.6|               770880|        23|     -233379|   4327022| 220892340|       5|            35 %|     2.83 %|       2.00 %|\n",
            "|       Brazil|                   25|           1.7|              8358140|        33|       21200|   1509890| 212559417|       6|            88 %|     2.73 %|       0.72 %|\n",
            "|      Nigeria|                  226|           5.4|               910770|        18|      -60000|   5175990| 206139589|       7|            52 %|     2.64 %|       2.58 %|\n",
            "|   Bangladesh|                 1265|           2.1|               130170|        28|     -369501|   1643222| 164689383|       8|            39 %|     2.11 %|       1.01 %|\n",
            "|       Russia|                    9|           1.8|             16376870|        40|      182456|     62206| 145934462|       9|            74 %|     1.87 %|       0.04 %|\n",
            "|       Mexico|                   66|           2.1|              1943950|        29|      -60000|   1357224| 128932753|      10|            84 %|     1.65 %|       1.06 %|\n",
            "|        Japan|                  347|           1.4|               364555|        48|       71560|   -383840| 126476461|      11|            92 %|     1.62 %|      -0.30 %|\n",
            "|     Ethiopia|                  115|           4.3|              1000000|        19|       30000|   2884858| 114963588|      12|            21 %|     1.47 %|       2.57 %|\n",
            "|  Philippines|                  368|           2.6|               298170|        26|      -67152|   1464463| 109581078|      13|            47 %|     1.41 %|       1.35 %|\n",
            "|        Egypt|                  103|           3.3|               995450|        25|      -38033|   1946331| 102334404|      14|            43 %|     1.31 %|       1.94 %|\n",
            "|      Vietnam|                  314|           2.1|               310070|        32|      -80000|    876473|  97338579|      15|            38 %|     1.25 %|       0.91 %|\n",
            "|     DR Congo|                   40|           6.0|              2267050|        17|       23861|   2770836|  89561403|      16|            46 %|     1.15 %|       3.19 %|\n",
            "|       Turkey|                  110|           2.1|               769630|        32|      283922|    909452|  84339067|      17|            76 %|     1.08 %|       1.09 %|\n",
            "|         Iran|                   52|           2.2|              1628550|        32|      -55000|   1079043|  83992949|      18|            76 %|     1.08 %|       1.30 %|\n",
            "|      Germany|                  240|           1.6|               348560|        46|      543822|    266897|  83783942|      19|            76 %|     1.07 %|       0.32 %|\n",
            "|     Thailand|                  137|           1.5|               510890|        40|       19444|    174396|  69799978|      20|            51 %|     0.90 %|       0.25 %|\n",
            "+-------------+---------------------+--------------+---------------------+----------+------------+----------+----------+--------+----------------+-----------+-------------+\n",
            "only showing top 20 rows\n",
            "\n",
            "root\n",
            " |-- country: string (nullable = true)\n",
            " |-- density_per_square_km: integer (nullable = true)\n",
            " |-- fertility_rate: float (nullable = true)\n",
            " |-- land_are_in_square_km: integer (nullable = true)\n",
            " |-- median_age: string (nullable = true)\n",
            " |-- migrants_net: integer (nullable = true)\n",
            " |-- net_change: integer (nullable = true)\n",
            " |-- population: integer (nullable = true)\n",
            " |-- position: string (nullable = true)\n",
            " |-- urban_population: string (nullable = true)\n",
            " |-- world_share: string (nullable = true)\n",
            " |-- yearly_change: string (nullable = true)\n",
            "\n"
          ]
        }
      ]
    },
    {
      "cell_type": "markdown",
      "source": [
        "First necessity is completed succesfully with the above code lines. Now it is time to complete second necessity.\n",
        "\n",
        "Percentage sign in \"urban population\", \"world share\" and \"yearly change\" columns. We don't need to remove dots."
      ],
      "metadata": {
        "id": "_dfwfzJ2Qvd9"
      }
    },
    {
      "cell_type": "code",
      "source": [
        "#Let's start to clean percentage signs, and then we will be converting dataType to the integer in urban population as it doesn't have any decimal point. Then we will convert world_share and yearly change columns into float. Lastly, we need to convert those values into its correct decimal representation to reflect its proper numberical value. For example, \"18.47%\" should be converted to 0.1847 to represent 18.47 percent as a decimal.\n",
        "df_new1 = df_new1.withColumn(\"urban_population\", round(regexp_replace(col(\"urban_population\"), \"%\", \"\").cast(\"float\") / 100, 5))\\\n",
        "          .withColumn(\"world_share\", round(regexp_replace(col(\"world_share\"), \"%\", \"\").cast(\"float\") / 100, 7))\\\n",
        "          .withColumn(\"yearly_change\", round(regexp_replace(col(\"yearly_change\"), \"%\", \"\").cast(\"float\") / 100, 7))"
      ],
      "metadata": {
        "id": "8uavLtsgSEqt"
      },
      "execution_count": 25,
      "outputs": []
    },
    {
      "cell_type": "code",
      "source": [
        "df_new1.show()\n",
        "df_new1.printSchema()"
      ],
      "metadata": {
        "colab": {
          "base_uri": "https://localhost:8080/"
        },
        "id": "52MNY6UjTVdp",
        "outputId": "c96f4c23-e5a1-4be6-aeaa-480cc226cddf"
      },
      "execution_count": 26,
      "outputs": [
        {
          "output_type": "stream",
          "name": "stdout",
          "text": [
            "+-------------+---------------------+--------------+---------------------+----------+------------+----------+----------+--------+----------------+-----------+-------------+\n",
            "|      country|density_per_square_km|fertility_rate|land_are_in_square_km|median_age|migrants_net|net_change|population|position|urban_population|world_share|yearly_change|\n",
            "+-------------+---------------------+--------------+---------------------+----------+------------+----------+----------+--------+----------------+-----------+-------------+\n",
            "|        China|                  153|           1.7|              9388211|        38|     -348399|   5540090|1439323776|       1|            0.61|     0.1847|       0.0039|\n",
            "|        India|                  464|           2.2|              2973190|        28|     -532687|  13586631|1380004385|       2|            0.35|      0.177|       0.0099|\n",
            "|United States|                   36|           1.8|              9147420|        38|      954806|   1937734| 331002651|       3|            0.83|     0.0425|       0.0059|\n",
            "|    Indonesia|                  151|           2.3|              1811570|        30|      -98955|   2898047| 273523615|       4|            0.56|     0.0351|       0.0107|\n",
            "|     Pakistan|                  287|           3.6|               770880|        23|     -233379|   4327022| 220892340|       5|            0.35|     0.0283|         0.02|\n",
            "|       Brazil|                   25|           1.7|              8358140|        33|       21200|   1509890| 212559417|       6|            0.88|     0.0273|       0.0072|\n",
            "|      Nigeria|                  226|           5.4|               910770|        18|      -60000|   5175990| 206139589|       7|            0.52|     0.0264|       0.0258|\n",
            "|   Bangladesh|                 1265|           2.1|               130170|        28|     -369501|   1643222| 164689383|       8|            0.39|     0.0211|       0.0101|\n",
            "|       Russia|                    9|           1.8|             16376870|        40|      182456|     62206| 145934462|       9|            0.74|     0.0187|       4.0E-4|\n",
            "|       Mexico|                   66|           2.1|              1943950|        29|      -60000|   1357224| 128932753|      10|            0.84|     0.0165|       0.0106|\n",
            "|        Japan|                  347|           1.4|               364555|        48|       71560|   -383840| 126476461|      11|            0.92|     0.0162|       -0.003|\n",
            "|     Ethiopia|                  115|           4.3|              1000000|        19|       30000|   2884858| 114963588|      12|            0.21|     0.0147|       0.0257|\n",
            "|  Philippines|                  368|           2.6|               298170|        26|      -67152|   1464463| 109581078|      13|            0.47|     0.0141|       0.0135|\n",
            "|        Egypt|                  103|           3.3|               995450|        25|      -38033|   1946331| 102334404|      14|            0.43|     0.0131|       0.0194|\n",
            "|      Vietnam|                  314|           2.1|               310070|        32|      -80000|    876473|  97338579|      15|            0.38|     0.0125|       0.0091|\n",
            "|     DR Congo|                   40|           6.0|              2267050|        17|       23861|   2770836|  89561403|      16|            0.46|     0.0115|       0.0319|\n",
            "|       Turkey|                  110|           2.1|               769630|        32|      283922|    909452|  84339067|      17|            0.76|     0.0108|       0.0109|\n",
            "|         Iran|                   52|           2.2|              1628550|        32|      -55000|   1079043|  83992949|      18|            0.76|     0.0108|        0.013|\n",
            "|      Germany|                  240|           1.6|               348560|        46|      543822|    266897|  83783942|      19|            0.76|     0.0107|       0.0032|\n",
            "|     Thailand|                  137|           1.5|               510890|        40|       19444|    174396|  69799978|      20|            0.51|      0.009|       0.0025|\n",
            "+-------------+---------------------+--------------+---------------------+----------+------------+----------+----------+--------+----------------+-----------+-------------+\n",
            "only showing top 20 rows\n",
            "\n",
            "root\n",
            " |-- country: string (nullable = true)\n",
            " |-- density_per_square_km: integer (nullable = true)\n",
            " |-- fertility_rate: float (nullable = true)\n",
            " |-- land_are_in_square_km: integer (nullable = true)\n",
            " |-- median_age: string (nullable = true)\n",
            " |-- migrants_net: integer (nullable = true)\n",
            " |-- net_change: integer (nullable = true)\n",
            " |-- population: integer (nullable = true)\n",
            " |-- position: string (nullable = true)\n",
            " |-- urban_population: double (nullable = true)\n",
            " |-- world_share: double (nullable = true)\n",
            " |-- yearly_change: double (nullable = true)\n",
            "\n"
          ]
        }
      ]
    },
    {
      "cell_type": "markdown",
      "source": [
        "## Changing Data Type of a Single Column:"
      ],
      "metadata": {
        "id": "PhrgfSJ288cv"
      }
    },
    {
      "cell_type": "code",
      "source": [
        "df_new1 = df_new1.withColumn(\"position\", col(\"position\").cast(\"integer\"))"
      ],
      "metadata": {
        "id": "cjLQQ2OI9C78"
      },
      "execution_count": 27,
      "outputs": []
    },
    {
      "cell_type": "code",
      "source": [
        "df_new1.show(1)"
      ],
      "metadata": {
        "colab": {
          "base_uri": "https://localhost:8080/"
        },
        "id": "W9d0vJV-9Xgo",
        "outputId": "62e054f0-5120-4691-d1b7-3857acc32a77"
      },
      "execution_count": 28,
      "outputs": [
        {
          "output_type": "stream",
          "name": "stdout",
          "text": [
            "+-------+---------------------+--------------+---------------------+----------+------------+----------+----------+--------+----------------+-----------+-------------+\n",
            "|country|density_per_square_km|fertility_rate|land_are_in_square_km|median_age|migrants_net|net_change|population|position|urban_population|world_share|yearly_change|\n",
            "+-------+---------------------+--------------+---------------------+----------+------------+----------+----------+--------+----------------+-----------+-------------+\n",
            "|  China|                  153|           1.7|              9388211|        38|     -348399|   5540090|1439323776|       1|            0.61|     0.1847|       0.0039|\n",
            "+-------+---------------------+--------------+---------------------+----------+------------+----------+----------+--------+----------------+-----------+-------------+\n",
            "only showing top 1 row\n",
            "\n"
          ]
        }
      ]
    },
    {
      "cell_type": "markdown",
      "source": [
        "Changing Data Type of Multiple Columns:"
      ],
      "metadata": {
        "id": "MiBWKnga9fdo"
      }
    },
    {
      "cell_type": "code",
      "source": [
        "df_new1 = df_new1.withColumn(\"median_age\", col(\"median_age\").cast(\"integer\"))"
      ],
      "metadata": {
        "id": "38Cx0ssP9kSo"
      },
      "execution_count": 29,
      "outputs": []
    },
    {
      "cell_type": "code",
      "source": [
        "df_new1.printSchema()"
      ],
      "metadata": {
        "colab": {
          "base_uri": "https://localhost:8080/"
        },
        "id": "KIJnvbwkYACM",
        "outputId": "4bda6bc8-e3ad-4800-99c6-2b75f79b0bbc"
      },
      "execution_count": 30,
      "outputs": [
        {
          "output_type": "stream",
          "name": "stdout",
          "text": [
            "root\n",
            " |-- country: string (nullable = true)\n",
            " |-- density_per_square_km: integer (nullable = true)\n",
            " |-- fertility_rate: float (nullable = true)\n",
            " |-- land_are_in_square_km: integer (nullable = true)\n",
            " |-- median_age: integer (nullable = true)\n",
            " |-- migrants_net: integer (nullable = true)\n",
            " |-- net_change: integer (nullable = true)\n",
            " |-- population: integer (nullable = true)\n",
            " |-- position: integer (nullable = true)\n",
            " |-- urban_population: double (nullable = true)\n",
            " |-- world_share: double (nullable = true)\n",
            " |-- yearly_change: double (nullable = true)\n",
            "\n"
          ]
        }
      ]
    },
    {
      "cell_type": "code",
      "source": [
        "df_new1.select(df_new1[\"country\"],(df_new1[\"population\"] > 100000000).alias(\"is_population_greater_than_100M\")).show()"
      ],
      "metadata": {
        "colab": {
          "base_uri": "https://localhost:8080/"
        },
        "id": "ClSEJks8pbK-",
        "outputId": "c723b036-bfd2-4cc0-800d-283a539b1d4b"
      },
      "execution_count": 31,
      "outputs": [
        {
          "output_type": "stream",
          "name": "stdout",
          "text": [
            "+-------------+-------------------------------+\n",
            "|      country|is_population_greater_than_100M|\n",
            "+-------------+-------------------------------+\n",
            "|        China|                           true|\n",
            "|        India|                           true|\n",
            "|United States|                           true|\n",
            "|    Indonesia|                           true|\n",
            "|     Pakistan|                           true|\n",
            "|       Brazil|                           true|\n",
            "|      Nigeria|                           true|\n",
            "|   Bangladesh|                           true|\n",
            "|       Russia|                           true|\n",
            "|       Mexico|                           true|\n",
            "|        Japan|                           true|\n",
            "|     Ethiopia|                           true|\n",
            "|  Philippines|                           true|\n",
            "|        Egypt|                           true|\n",
            "|      Vietnam|                          false|\n",
            "|     DR Congo|                          false|\n",
            "|       Turkey|                          false|\n",
            "|         Iran|                          false|\n",
            "|      Germany|                          false|\n",
            "|     Thailand|                          false|\n",
            "+-------------+-------------------------------+\n",
            "only showing top 20 rows\n",
            "\n"
          ]
        }
      ]
    },
    {
      "cell_type": "code",
      "source": [
        "df_new1.select(col(\"country\"), (col(\"population\") > 100000000).alias(\"is_population_greater_than_100M\")).show()"
      ],
      "metadata": {
        "colab": {
          "base_uri": "https://localhost:8080/"
        },
        "id": "4o0Q9a6tpbv1",
        "outputId": "08c368f2-87b5-49d1-887c-79aef0fb16db"
      },
      "execution_count": 32,
      "outputs": [
        {
          "output_type": "stream",
          "name": "stdout",
          "text": [
            "+-------------+-------------------------------+\n",
            "|      country|is_population_greater_than_100M|\n",
            "+-------------+-------------------------------+\n",
            "|        China|                           true|\n",
            "|        India|                           true|\n",
            "|United States|                           true|\n",
            "|    Indonesia|                           true|\n",
            "|     Pakistan|                           true|\n",
            "|       Brazil|                           true|\n",
            "|      Nigeria|                           true|\n",
            "|   Bangladesh|                           true|\n",
            "|       Russia|                           true|\n",
            "|       Mexico|                           true|\n",
            "|        Japan|                           true|\n",
            "|     Ethiopia|                           true|\n",
            "|  Philippines|                           true|\n",
            "|        Egypt|                           true|\n",
            "|      Vietnam|                          false|\n",
            "|     DR Congo|                          false|\n",
            "|       Turkey|                          false|\n",
            "|         Iran|                          false|\n",
            "|      Germany|                          false|\n",
            "|     Thailand|                          false|\n",
            "+-------------+-------------------------------+\n",
            "only showing top 20 rows\n",
            "\n"
          ]
        }
      ]
    },
    {
      "cell_type": "code",
      "source": [
        " from pyspark.sql import functions as F"
      ],
      "metadata": {
        "id": "eRSRou4Xy2N7"
      },
      "execution_count": 33,
      "outputs": []
    },
    {
      "cell_type": "markdown",
      "source": [
        "## When and Otherwise"
      ],
      "metadata": {
        "id": "HVxHGT9_2VPk"
      }
    },
    {
      "cell_type": "code",
      "source": [
        "df_new1.select(\n",
        "    col(\"country\"),\n",
        "    F.when(col(\"population\") > 100000000, col(\"population\"))\n",
        "    .otherwise(\"Less than 100M\")\n",
        "    .alias(\"is_population_greater_than_100M\")\n",
        "    ).show()"
      ],
      "metadata": {
        "colab": {
          "base_uri": "https://localhost:8080/"
        },
        "id": "wmiTkrihzbAI",
        "outputId": "7886f5c0-575f-4568-d439-24014ee3455b"
      },
      "execution_count": 34,
      "outputs": [
        {
          "output_type": "stream",
          "name": "stdout",
          "text": [
            "+-------------+-------------------------------+\n",
            "|      country|is_population_greater_than_100M|\n",
            "+-------------+-------------------------------+\n",
            "|        China|                     1439323776|\n",
            "|        India|                     1380004385|\n",
            "|United States|                      331002651|\n",
            "|    Indonesia|                      273523615|\n",
            "|     Pakistan|                      220892340|\n",
            "|       Brazil|                      212559417|\n",
            "|      Nigeria|                      206139589|\n",
            "|   Bangladesh|                      164689383|\n",
            "|       Russia|                      145934462|\n",
            "|       Mexico|                      128932753|\n",
            "|        Japan|                      126476461|\n",
            "|     Ethiopia|                      114963588|\n",
            "|  Philippines|                      109581078|\n",
            "|        Egypt|                      102334404|\n",
            "|      Vietnam|                 Less than 100M|\n",
            "|     DR Congo|                 Less than 100M|\n",
            "|       Turkey|                 Less than 100M|\n",
            "|         Iran|                 Less than 100M|\n",
            "|      Germany|                 Less than 100M|\n",
            "|     Thailand|                 Less than 100M|\n",
            "+-------------+-------------------------------+\n",
            "only showing top 20 rows\n",
            "\n"
          ]
        }
      ]
    },
    {
      "cell_type": "markdown",
      "source": [
        "## WHEN AND FILTER TOGETHER"
      ],
      "metadata": {
        "id": "Z-EFR3h84hVE"
      }
    },
    {
      "cell_type": "code",
      "source": [
        "df_filtered = df_new1.filter(col(\"population\") > 100000000).select(\n",
        "    col(\"country\"),\n",
        "    col(\"population\").alias(\"population_greater_than_100M\")\n",
        ")\n",
        "\n",
        "df_filtered.show()"
      ],
      "metadata": {
        "colab": {
          "base_uri": "https://localhost:8080/"
        },
        "id": "upqL7oas9qjQ",
        "outputId": "5d980888-9703-460c-da27-514e70b0d327"
      },
      "execution_count": 35,
      "outputs": [
        {
          "output_type": "stream",
          "name": "stdout",
          "text": [
            "+-------------+----------------------------+\n",
            "|      country|population_greater_than_100M|\n",
            "+-------------+----------------------------+\n",
            "|        China|                  1439323776|\n",
            "|        India|                  1380004385|\n",
            "|United States|                   331002651|\n",
            "|    Indonesia|                   273523615|\n",
            "|     Pakistan|                   220892340|\n",
            "|       Brazil|                   212559417|\n",
            "|      Nigeria|                   206139589|\n",
            "|   Bangladesh|                   164689383|\n",
            "|       Russia|                   145934462|\n",
            "|       Mexico|                   128932753|\n",
            "|        Japan|                   126476461|\n",
            "|     Ethiopia|                   114963588|\n",
            "|  Philippines|                   109581078|\n",
            "|        Egypt|                   102334404|\n",
            "+-------------+----------------------------+\n",
            "\n"
          ]
        }
      ]
    },
    {
      "cell_type": "markdown",
      "source": [
        "## Startswith - Endswith"
      ],
      "metadata": {
        "id": "HOVn235u-Ttn"
      }
    },
    {
      "cell_type": "code",
      "source": [
        "df_startwith = df_new1.filter(col(\"country\").startswith(\"A\"))\n",
        "df_startwith.show()\n",
        "\n",
        "df_startwith2 = df_new1.select(df_new1.country.startswith(\"A\"))\n",
        "df_startwith2.show()"
      ],
      "metadata": {
        "colab": {
          "base_uri": "https://localhost:8080/"
        },
        "id": "VhHdQlbl-Tc1",
        "outputId": "56e5087a-993d-405d-f58a-ab70f4fb270c"
      },
      "execution_count": 36,
      "outputs": [
        {
          "output_type": "stream",
          "name": "stdout",
          "text": [
            "+-------------------+---------------------+--------------+---------------------+----------+------------+----------+----------+--------+----------------+-----------+-------------+\n",
            "|            country|density_per_square_km|fertility_rate|land_are_in_square_km|median_age|migrants_net|net_change|population|position|urban_population|world_share|yearly_change|\n",
            "+-------------------+---------------------+--------------+---------------------+----------+------------+----------+----------+--------+----------------+-----------+-------------+\n",
            "|          Argentina|                   17|           2.3|              2736690|        32|        4800|    415097|  45195774|      32|            0.93|     0.0058|       0.0093|\n",
            "|            Algeria|                   18|           3.1|              2381740|        29|      -10000|    797990|  43851044|      33|            0.73|     0.0056|       0.0185|\n",
            "|        Afghanistan|                   60|           4.6|               652860|        18|      -62920|    886592|  38928346|      37|            0.25|      0.005|       0.0233|\n",
            "|             Angola|                   26|           5.6|              1246700|        17|        6413|   1040977|  32866272|      44|            0.67|     0.0042|       0.0327|\n",
            "|          Australia|                    3|           1.8|              7682300|        38|      158246|    296686|  25499884|      55|            0.86|     0.0033|       0.0118|\n",
            "|         Azerbaijan|                  123|           2.1|                82658|        32|        1200|     91459|  10139177|      90|            0.56|     0.0013|       0.0091|\n",
            "|            Austria|                  109|           1.5|                82409|        43|       65000|     51296|   9006398|      97|            0.57|     0.0012|       0.0057|\n",
            "|            Armenia|                  104|           1.8|                28470|        35|       -4998|      5512|   2963243|     137|            0.63|     4.0E-4|       0.0019|\n",
            "|            Albania|                  105|           1.6|                27400|        36|      -14000|     -3120|   2877797|     140|            0.63|     4.0E-4|      -0.0011|\n",
            "|              Aruba|                  593|           1.9|                  180|        41|         201|       452|    106766|     197|            0.44|        0.0|       0.0043|\n",
            "|Antigua and Barbuda|                  223|           2.0|                  440|        34|           0|       811|     97929|     201|            0.26|        0.0|       0.0084|\n",
            "|            Andorra|                  164|          NULL|                  470|      NULL|        NULL|       123|     77265|     203|            0.88|        0.0|       0.0016|\n",
            "|     American Samoa|                  276|          NULL|                  200|      NULL|        NULL|      -121|     55191|     210|            0.88|        0.0|      -0.0022|\n",
            "|           Anguilla|                  167|          NULL|                   90|      NULL|        NULL|       134|     15003|     224|            NULL|        0.0|        0.009|\n",
            "+-------------------+---------------------+--------------+---------------------+----------+------------+----------+----------+--------+----------------+-----------+-------------+\n",
            "\n",
            "+----------------------+\n",
            "|startswith(country, A)|\n",
            "+----------------------+\n",
            "|                 false|\n",
            "|                 false|\n",
            "|                 false|\n",
            "|                 false|\n",
            "|                 false|\n",
            "|                 false|\n",
            "|                 false|\n",
            "|                 false|\n",
            "|                 false|\n",
            "|                 false|\n",
            "|                 false|\n",
            "|                 false|\n",
            "|                 false|\n",
            "|                 false|\n",
            "|                 false|\n",
            "|                 false|\n",
            "|                 false|\n",
            "|                 false|\n",
            "|                 false|\n",
            "|                 false|\n",
            "+----------------------+\n",
            "only showing top 20 rows\n",
            "\n"
          ]
        }
      ]
    },
    {
      "cell_type": "code",
      "source": [
        "df_filtered = df_new1.filter(col(\"population\") > 100000000)\n",
        "df_filtered.show()\n",
        "\n",
        "df_filtered = df_new1.where(col(\"population\") > 100000000)\n",
        "df_filtered.show()"
      ],
      "metadata": {
        "colab": {
          "base_uri": "https://localhost:8080/"
        },
        "id": "6xN9TFTo_a-U",
        "outputId": "e609e543-db96-4267-8b63-56c4cfc9e343"
      },
      "execution_count": 37,
      "outputs": [
        {
          "output_type": "stream",
          "name": "stdout",
          "text": [
            "+-------------+---------------------+--------------+---------------------+----------+------------+----------+----------+--------+----------------+-----------+-------------+\n",
            "|      country|density_per_square_km|fertility_rate|land_are_in_square_km|median_age|migrants_net|net_change|population|position|urban_population|world_share|yearly_change|\n",
            "+-------------+---------------------+--------------+---------------------+----------+------------+----------+----------+--------+----------------+-----------+-------------+\n",
            "|        China|                  153|           1.7|              9388211|        38|     -348399|   5540090|1439323776|       1|            0.61|     0.1847|       0.0039|\n",
            "|        India|                  464|           2.2|              2973190|        28|     -532687|  13586631|1380004385|       2|            0.35|      0.177|       0.0099|\n",
            "|United States|                   36|           1.8|              9147420|        38|      954806|   1937734| 331002651|       3|            0.83|     0.0425|       0.0059|\n",
            "|    Indonesia|                  151|           2.3|              1811570|        30|      -98955|   2898047| 273523615|       4|            0.56|     0.0351|       0.0107|\n",
            "|     Pakistan|                  287|           3.6|               770880|        23|     -233379|   4327022| 220892340|       5|            0.35|     0.0283|         0.02|\n",
            "|       Brazil|                   25|           1.7|              8358140|        33|       21200|   1509890| 212559417|       6|            0.88|     0.0273|       0.0072|\n",
            "|      Nigeria|                  226|           5.4|               910770|        18|      -60000|   5175990| 206139589|       7|            0.52|     0.0264|       0.0258|\n",
            "|   Bangladesh|                 1265|           2.1|               130170|        28|     -369501|   1643222| 164689383|       8|            0.39|     0.0211|       0.0101|\n",
            "|       Russia|                    9|           1.8|             16376870|        40|      182456|     62206| 145934462|       9|            0.74|     0.0187|       4.0E-4|\n",
            "|       Mexico|                   66|           2.1|              1943950|        29|      -60000|   1357224| 128932753|      10|            0.84|     0.0165|       0.0106|\n",
            "|        Japan|                  347|           1.4|               364555|        48|       71560|   -383840| 126476461|      11|            0.92|     0.0162|       -0.003|\n",
            "|     Ethiopia|                  115|           4.3|              1000000|        19|       30000|   2884858| 114963588|      12|            0.21|     0.0147|       0.0257|\n",
            "|  Philippines|                  368|           2.6|               298170|        26|      -67152|   1464463| 109581078|      13|            0.47|     0.0141|       0.0135|\n",
            "|        Egypt|                  103|           3.3|               995450|        25|      -38033|   1946331| 102334404|      14|            0.43|     0.0131|       0.0194|\n",
            "+-------------+---------------------+--------------+---------------------+----------+------------+----------+----------+--------+----------------+-----------+-------------+\n",
            "\n",
            "+-------------+---------------------+--------------+---------------------+----------+------------+----------+----------+--------+----------------+-----------+-------------+\n",
            "|      country|density_per_square_km|fertility_rate|land_are_in_square_km|median_age|migrants_net|net_change|population|position|urban_population|world_share|yearly_change|\n",
            "+-------------+---------------------+--------------+---------------------+----------+------------+----------+----------+--------+----------------+-----------+-------------+\n",
            "|        China|                  153|           1.7|              9388211|        38|     -348399|   5540090|1439323776|       1|            0.61|     0.1847|       0.0039|\n",
            "|        India|                  464|           2.2|              2973190|        28|     -532687|  13586631|1380004385|       2|            0.35|      0.177|       0.0099|\n",
            "|United States|                   36|           1.8|              9147420|        38|      954806|   1937734| 331002651|       3|            0.83|     0.0425|       0.0059|\n",
            "|    Indonesia|                  151|           2.3|              1811570|        30|      -98955|   2898047| 273523615|       4|            0.56|     0.0351|       0.0107|\n",
            "|     Pakistan|                  287|           3.6|               770880|        23|     -233379|   4327022| 220892340|       5|            0.35|     0.0283|         0.02|\n",
            "|       Brazil|                   25|           1.7|              8358140|        33|       21200|   1509890| 212559417|       6|            0.88|     0.0273|       0.0072|\n",
            "|      Nigeria|                  226|           5.4|               910770|        18|      -60000|   5175990| 206139589|       7|            0.52|     0.0264|       0.0258|\n",
            "|   Bangladesh|                 1265|           2.1|               130170|        28|     -369501|   1643222| 164689383|       8|            0.39|     0.0211|       0.0101|\n",
            "|       Russia|                    9|           1.8|             16376870|        40|      182456|     62206| 145934462|       9|            0.74|     0.0187|       4.0E-4|\n",
            "|       Mexico|                   66|           2.1|              1943950|        29|      -60000|   1357224| 128932753|      10|            0.84|     0.0165|       0.0106|\n",
            "|        Japan|                  347|           1.4|               364555|        48|       71560|   -383840| 126476461|      11|            0.92|     0.0162|       -0.003|\n",
            "|     Ethiopia|                  115|           4.3|              1000000|        19|       30000|   2884858| 114963588|      12|            0.21|     0.0147|       0.0257|\n",
            "|  Philippines|                  368|           2.6|               298170|        26|      -67152|   1464463| 109581078|      13|            0.47|     0.0141|       0.0135|\n",
            "|        Egypt|                  103|           3.3|               995450|        25|      -38033|   1946331| 102334404|      14|            0.43|     0.0131|       0.0194|\n",
            "+-------------+---------------------+--------------+---------------------+----------+------------+----------+----------+--------+----------------+-----------+-------------+\n",
            "\n"
          ]
        }
      ]
    },
    {
      "cell_type": "markdown",
      "source": [
        "## Get the size of a DataFrame"
      ],
      "metadata": {
        "id": "Uo8-IqLIBMS2"
      }
    },
    {
      "cell_type": "code",
      "source": [
        "print(\"{} rows\".format(df_new1.count()))\n",
        "print(\"{} columns\".format(len(df_new1.columns)))"
      ],
      "metadata": {
        "colab": {
          "base_uri": "https://localhost:8080/"
        },
        "id": "A1ORgC3EBMDC",
        "outputId": "1f958387-9277-4611-b261-1c02f45a001e"
      },
      "execution_count": 38,
      "outputs": [
        {
          "output_type": "stream",
          "name": "stdout",
          "text": [
            "235 rows\n",
            "12 columns\n"
          ]
        }
      ]
    },
    {
      "cell_type": "markdown",
      "source": [
        "## Get a DataFrame's number of partitions:\n",
        "\n",
        "Performance Tuning: Understanding the number of partitions can help you optimize the performance of your Spark jobs. Adjusting the number of partitions can lead to better parallelism and resource utilization."
      ],
      "metadata": {
        "id": "Fq9wv6FrBaT6"
      }
    },
    {
      "cell_type": "code",
      "source": [
        "print(\"{} partition(s)\".format(df_new1.rdd.getNumPartitions()))"
      ],
      "metadata": {
        "colab": {
          "base_uri": "https://localhost:8080/"
        },
        "id": "jmq109SoBb5z",
        "outputId": "6c06f0c9-dabd-4aef-ca3e-5c62814dfc16"
      },
      "execution_count": 39,
      "outputs": [
        {
          "output_type": "stream",
          "name": "stdout",
          "text": [
            "1 partition(s)\n"
          ]
        }
      ]
    },
    {
      "cell_type": "markdown",
      "source": [
        "What is an RDD?\n",
        "\n",
        "Resilient Distributed Dataset (RDD): RDDs are the fundamental data structure of Apache Spark. They represent an immutable, distributed collection of objects that can be processed in parallel.\n",
        "\n",
        "Key Features of RDDs:\n",
        "\n",
        "Resilient: Fault-tolerant with the ability to recompute missing or damaged partitions due to node failures.\n",
        "\n",
        "Distributed: Data is distributed across multiple nodes in a cluster, allowing parallel processing.\n",
        "\n",
        "Dataset: A collection of data elements.\n",
        "\n",
        "What is a Partition?\n",
        "\n",
        "Partition: A partition is a logical division of data in an RDD. Each partition is a chunk of data that can be processed independently by a task in Spark.\n",
        "\n",
        "Key Points:\n",
        "\n",
        "Partitions enable parallelism: Multiple partitions can be processed simultaneously on different nodes in the cluster.\n",
        "\n",
        "The number of partitions can impact performance: More partitions can lead to better load balancing and resource utilization, while fewer partitions might reduce the overhead of managing partitions."
      ],
      "metadata": {
        "id": "tXqNI6V2FZKW"
      }
    },
    {
      "cell_type": "markdown",
      "source": [
        "Example:\n",
        "Imagine you have a large dataset of a billion rows. Instead of processing the entire dataset as a single unit, Spark divides it into smaller partitions, say 1000 partitions. Each partition contains a subset of the data, and Spark processes these partitions in parallel across the cluster, making the computation much faster and more efficient.\n",
        "\n",
        "Checking the Number of Partitions:\n",
        "The code print(\"{} partition(s)\".format(df_new1.rdd.getNumPartitions())) is used to find out how many partitions are present in the RDD of the DataFrame df_new1."
      ],
      "metadata": {
        "id": "5d6Q26EhFnxV"
      }
    },
    {
      "cell_type": "markdown",
      "source": [
        "## Get data types of a DataFrame's columns"
      ],
      "metadata": {
        "id": "0v54ImASI8ij"
      }
    },
    {
      "cell_type": "code",
      "source": [
        "print(df_new1.dtypes)"
      ],
      "metadata": {
        "colab": {
          "base_uri": "https://localhost:8080/"
        },
        "id": "4aOTTtWII7Ey",
        "outputId": "834393ec-637b-4273-aa46-f40420914360"
      },
      "execution_count": 40,
      "outputs": [
        {
          "output_type": "stream",
          "name": "stdout",
          "text": [
            "[('country', 'string'), ('density_per_square_km', 'int'), ('fertility_rate', 'float'), ('land_are_in_square_km', 'int'), ('median_age', 'int'), ('migrants_net', 'int'), ('net_change', 'int'), ('population', 'int'), ('position', 'int'), ('urban_population', 'double'), ('world_share', 'double'), ('yearly_change', 'double')]\n"
          ]
        }
      ]
    },
    {
      "cell_type": "markdown",
      "source": [
        "## Fill NULL values in specific columns"
      ],
      "metadata": {
        "id": "sLoiE5PDbGSp"
      }
    },
    {
      "cell_type": "code",
      "source": [
        "df_A = df_new1.fillna({\"population\": 0})\n",
        "df_A.select(col(\"country\"), col(\"population\")).show()"
      ],
      "metadata": {
        "colab": {
          "base_uri": "https://localhost:8080/"
        },
        "id": "7SQ9Z6uGbH6n",
        "outputId": "c40f05e8-2f26-43e3-ef0b-f4d46757603c"
      },
      "execution_count": 41,
      "outputs": [
        {
          "output_type": "stream",
          "name": "stdout",
          "text": [
            "+-------------+----------+\n",
            "|      country|population|\n",
            "+-------------+----------+\n",
            "|        China|1439323776|\n",
            "|        India|1380004385|\n",
            "|United States| 331002651|\n",
            "|    Indonesia| 273523615|\n",
            "|     Pakistan| 220892340|\n",
            "|       Brazil| 212559417|\n",
            "|      Nigeria| 206139589|\n",
            "|   Bangladesh| 164689383|\n",
            "|       Russia| 145934462|\n",
            "|       Mexico| 128932753|\n",
            "|        Japan| 126476461|\n",
            "|     Ethiopia| 114963588|\n",
            "|  Philippines| 109581078|\n",
            "|        Egypt| 102334404|\n",
            "|      Vietnam|  97338579|\n",
            "|     DR Congo|  89561403|\n",
            "|       Turkey|  84339067|\n",
            "|         Iran|  83992949|\n",
            "|      Germany|  83783942|\n",
            "|     Thailand|  69799978|\n",
            "+-------------+----------+\n",
            "only showing top 20 rows\n",
            "\n"
          ]
        }
      ]
    },
    {
      "cell_type": "markdown",
      "source": [
        "## Count the Number if 0 in the column"
      ],
      "metadata": {
        "id": "o7JB2Diwc3vj"
      }
    },
    {
      "cell_type": "code",
      "source": [
        "zero_count = df_A.filter(col(\"population\") == 0).count()\n",
        "print(\"Number of rows with population = 0:\", zero_count)"
      ],
      "metadata": {
        "colab": {
          "base_uri": "https://localhost:8080/"
        },
        "id": "Z8oH5RaIcDCd",
        "outputId": "ad02c174-6755-4419-8dbb-3fc20dd60072"
      },
      "execution_count": 42,
      "outputs": [
        {
          "output_type": "stream",
          "name": "stdout",
          "text": [
            "Number of rows with population = 0: 0\n"
          ]
        }
      ]
    },
    {
      "cell_type": "markdown",
      "source": [
        "## Fill NULL values with column average"
      ],
      "metadata": {
        "id": "le7h1jM7e3jj"
      }
    },
    {
      "cell_type": "code",
      "source": [
        "df_A = df_A.fillna({\"population\": df_A.agg(avg(\"population\")).first()[0]})\n",
        "\n",
        "df_A.show()"
      ],
      "metadata": {
        "colab": {
          "base_uri": "https://localhost:8080/"
        },
        "id": "BEs9bsfde6Kh",
        "outputId": "8f031ca3-e38f-42d2-8cc3-eb9fcf025188"
      },
      "execution_count": 43,
      "outputs": [
        {
          "output_type": "stream",
          "name": "stdout",
          "text": [
            "+-------------+---------------------+--------------+---------------------+----------+------------+----------+----------+--------+----------------+-----------+-------------+\n",
            "|      country|density_per_square_km|fertility_rate|land_are_in_square_km|median_age|migrants_net|net_change|population|position|urban_population|world_share|yearly_change|\n",
            "+-------------+---------------------+--------------+---------------------+----------+------------+----------+----------+--------+----------------+-----------+-------------+\n",
            "|        China|                  153|           1.7|              9388211|        38|     -348399|   5540090|1439323776|       1|            0.61|     0.1847|       0.0039|\n",
            "|        India|                  464|           2.2|              2973190|        28|     -532687|  13586631|1380004385|       2|            0.35|      0.177|       0.0099|\n",
            "|United States|                   36|           1.8|              9147420|        38|      954806|   1937734| 331002651|       3|            0.83|     0.0425|       0.0059|\n",
            "|    Indonesia|                  151|           2.3|              1811570|        30|      -98955|   2898047| 273523615|       4|            0.56|     0.0351|       0.0107|\n",
            "|     Pakistan|                  287|           3.6|               770880|        23|     -233379|   4327022| 220892340|       5|            0.35|     0.0283|         0.02|\n",
            "|       Brazil|                   25|           1.7|              8358140|        33|       21200|   1509890| 212559417|       6|            0.88|     0.0273|       0.0072|\n",
            "|      Nigeria|                  226|           5.4|               910770|        18|      -60000|   5175990| 206139589|       7|            0.52|     0.0264|       0.0258|\n",
            "|   Bangladesh|                 1265|           2.1|               130170|        28|     -369501|   1643222| 164689383|       8|            0.39|     0.0211|       0.0101|\n",
            "|       Russia|                    9|           1.8|             16376870|        40|      182456|     62206| 145934462|       9|            0.74|     0.0187|       4.0E-4|\n",
            "|       Mexico|                   66|           2.1|              1943950|        29|      -60000|   1357224| 128932753|      10|            0.84|     0.0165|       0.0106|\n",
            "|        Japan|                  347|           1.4|               364555|        48|       71560|   -383840| 126476461|      11|            0.92|     0.0162|       -0.003|\n",
            "|     Ethiopia|                  115|           4.3|              1000000|        19|       30000|   2884858| 114963588|      12|            0.21|     0.0147|       0.0257|\n",
            "|  Philippines|                  368|           2.6|               298170|        26|      -67152|   1464463| 109581078|      13|            0.47|     0.0141|       0.0135|\n",
            "|        Egypt|                  103|           3.3|               995450|        25|      -38033|   1946331| 102334404|      14|            0.43|     0.0131|       0.0194|\n",
            "|      Vietnam|                  314|           2.1|               310070|        32|      -80000|    876473|  97338579|      15|            0.38|     0.0125|       0.0091|\n",
            "|     DR Congo|                   40|           6.0|              2267050|        17|       23861|   2770836|  89561403|      16|            0.46|     0.0115|       0.0319|\n",
            "|       Turkey|                  110|           2.1|               769630|        32|      283922|    909452|  84339067|      17|            0.76|     0.0108|       0.0109|\n",
            "|         Iran|                   52|           2.2|              1628550|        32|      -55000|   1079043|  83992949|      18|            0.76|     0.0108|        0.013|\n",
            "|      Germany|                  240|           1.6|               348560|        46|      543822|    266897|  83783942|      19|            0.76|     0.0107|       0.0032|\n",
            "|     Thailand|                  137|           1.5|               510890|        40|       19444|    174396|  69799978|      20|            0.51|      0.009|       0.0025|\n",
            "+-------------+---------------------+--------------+---------------------+----------+------------+----------+----------+--------+----------------+-----------+-------------+\n",
            "only showing top 20 rows\n",
            "\n"
          ]
        }
      ]
    },
    {
      "cell_type": "markdown",
      "source": [
        "## Filter based on a specific column value"
      ],
      "metadata": {
        "id": "ntfMoogugZPw"
      }
    },
    {
      "cell_type": "code",
      "source": [
        "df_new1.where(col(\"country\") == \"China\").show()\n",
        "\n",
        "df_new1.filter(col(\"country\") == \"China\").show()\n",
        "\n",
        "df_new1.filter(col(\"fertility_rate\") > 1.5).show()"
      ],
      "metadata": {
        "colab": {
          "base_uri": "https://localhost:8080/"
        },
        "id": "m9o50OM2gauT",
        "outputId": "5d8df810-af60-4c1d-f37d-cd023cd141bb"
      },
      "execution_count": 44,
      "outputs": [
        {
          "output_type": "stream",
          "name": "stdout",
          "text": [
            "+-------+---------------------+--------------+---------------------+----------+------------+----------+----------+--------+----------------+-----------+-------------+\n",
            "|country|density_per_square_km|fertility_rate|land_are_in_square_km|median_age|migrants_net|net_change|population|position|urban_population|world_share|yearly_change|\n",
            "+-------+---------------------+--------------+---------------------+----------+------------+----------+----------+--------+----------------+-----------+-------------+\n",
            "|  China|                  153|           1.7|              9388211|        38|     -348399|   5540090|1439323776|       1|            0.61|     0.1847|       0.0039|\n",
            "+-------+---------------------+--------------+---------------------+----------+------------+----------+----------+--------+----------------+-----------+-------------+\n",
            "\n",
            "+-------+---------------------+--------------+---------------------+----------+------------+----------+----------+--------+----------------+-----------+-------------+\n",
            "|country|density_per_square_km|fertility_rate|land_are_in_square_km|median_age|migrants_net|net_change|population|position|urban_population|world_share|yearly_change|\n",
            "+-------+---------------------+--------------+---------------------+----------+------------+----------+----------+--------+----------------+-----------+-------------+\n",
            "|  China|                  153|           1.7|              9388211|        38|     -348399|   5540090|1439323776|       1|            0.61|     0.1847|       0.0039|\n",
            "+-------+---------------------+--------------+---------------------+----------+------------+----------+----------+--------+----------------+-----------+-------------+\n",
            "\n",
            "+--------------+---------------------+--------------+---------------------+----------+------------+----------+----------+--------+----------------+-----------+-------------+\n",
            "|       country|density_per_square_km|fertility_rate|land_are_in_square_km|median_age|migrants_net|net_change|population|position|urban_population|world_share|yearly_change|\n",
            "+--------------+---------------------+--------------+---------------------+----------+------------+----------+----------+--------+----------------+-----------+-------------+\n",
            "|         China|                  153|           1.7|              9388211|        38|     -348399|   5540090|1439323776|       1|            0.61|     0.1847|       0.0039|\n",
            "|         India|                  464|           2.2|              2973190|        28|     -532687|  13586631|1380004385|       2|            0.35|      0.177|       0.0099|\n",
            "| United States|                   36|           1.8|              9147420|        38|      954806|   1937734| 331002651|       3|            0.83|     0.0425|       0.0059|\n",
            "|     Indonesia|                  151|           2.3|              1811570|        30|      -98955|   2898047| 273523615|       4|            0.56|     0.0351|       0.0107|\n",
            "|      Pakistan|                  287|           3.6|               770880|        23|     -233379|   4327022| 220892340|       5|            0.35|     0.0283|         0.02|\n",
            "|        Brazil|                   25|           1.7|              8358140|        33|       21200|   1509890| 212559417|       6|            0.88|     0.0273|       0.0072|\n",
            "|       Nigeria|                  226|           5.4|               910770|        18|      -60000|   5175990| 206139589|       7|            0.52|     0.0264|       0.0258|\n",
            "|    Bangladesh|                 1265|           2.1|               130170|        28|     -369501|   1643222| 164689383|       8|            0.39|     0.0211|       0.0101|\n",
            "|        Russia|                    9|           1.8|             16376870|        40|      182456|     62206| 145934462|       9|            0.74|     0.0187|       4.0E-4|\n",
            "|        Mexico|                   66|           2.1|              1943950|        29|      -60000|   1357224| 128932753|      10|            0.84|     0.0165|       0.0106|\n",
            "|      Ethiopia|                  115|           4.3|              1000000|        19|       30000|   2884858| 114963588|      12|            0.21|     0.0147|       0.0257|\n",
            "|   Philippines|                  368|           2.6|               298170|        26|      -67152|   1464463| 109581078|      13|            0.47|     0.0141|       0.0135|\n",
            "|         Egypt|                  103|           3.3|               995450|        25|      -38033|   1946331| 102334404|      14|            0.43|     0.0131|       0.0194|\n",
            "|       Vietnam|                  314|           2.1|               310070|        32|      -80000|    876473|  97338579|      15|            0.38|     0.0125|       0.0091|\n",
            "|      DR Congo|                   40|           6.0|              2267050|        17|       23861|   2770836|  89561403|      16|            0.46|     0.0115|       0.0319|\n",
            "|        Turkey|                  110|           2.1|               769630|        32|      283922|    909452|  84339067|      17|            0.76|     0.0108|       0.0109|\n",
            "|          Iran|                   52|           2.2|              1628550|        32|      -55000|   1079043|  83992949|      18|            0.76|     0.0108|        0.013|\n",
            "|       Germany|                  240|           1.6|               348560|        46|      543822|    266897|  83783942|      19|            0.76|     0.0107|       0.0032|\n",
            "|United Kingdom|                  281|           1.8|               241930|        40|      260650|    355839|  67886011|      21|            0.83|     0.0087|       0.0053|\n",
            "|        France|                  119|           1.9|               547557|        42|       36527|    143783|  65273511|      22|            0.82|     0.0084|       0.0022|\n",
            "+--------------+---------------------+--------------+---------------------+----------+------------+----------+----------+--------+----------------+-----------+-------------+\n",
            "only showing top 20 rows\n",
            "\n"
          ]
        }
      ]
    },
    {
      "cell_type": "markdown",
      "source": [
        "## Multiple Columns in Filter"
      ],
      "metadata": {
        "id": "PL7FZJqamlj9"
      }
    },
    {
      "cell_type": "code",
      "source": [
        "df_new1.filter(((col(\"population\") > 50000000) & (col(\"fertility_rate\") > 5))).show()"
      ],
      "metadata": {
        "colab": {
          "base_uri": "https://localhost:8080/"
        },
        "id": "kCiYvusEliX8",
        "outputId": "d1d785e1-dac9-40f2-c525-c37d7c7dd902"
      },
      "execution_count": 45,
      "outputs": [
        {
          "output_type": "stream",
          "name": "stdout",
          "text": [
            "+--------+---------------------+--------------+---------------------+----------+------------+----------+----------+--------+----------------+-----------+-------------+\n",
            "| country|density_per_square_km|fertility_rate|land_are_in_square_km|median_age|migrants_net|net_change|population|position|urban_population|world_share|yearly_change|\n",
            "+--------+---------------------+--------------+---------------------+----------+------------+----------+----------+--------+----------------+-----------+-------------+\n",
            "| Nigeria|                  226|           5.4|               910770|        18|      -60000|   5175990| 206139589|       7|            0.52|     0.0264|       0.0258|\n",
            "|DR Congo|                   40|           6.0|              2267050|        17|       23861|   2770836|  89561403|      16|            0.46|     0.0115|       0.0319|\n",
            "+--------+---------------------+--------------+---------------------+----------+------------+----------+----------+--------+----------------+-----------+-------------+\n",
            "\n"
          ]
        }
      ]
    },
    {
      "cell_type": "markdown",
      "source": [
        "## Filter based on an IN list"
      ],
      "metadata": {
        "id": "KZ6CSwTlpaLn"
      }
    },
    {
      "cell_type": "code",
      "source": [
        "from pyspark.sql.functions import col\n",
        "\n",
        "df_new1.where(col(\"country\").isin([\"Germany\", \"Turkey\"])).show()"
      ],
      "metadata": {
        "colab": {
          "base_uri": "https://localhost:8080/"
        },
        "id": "tzK9AoIspd1e",
        "outputId": "bb68977f-138b-4749-9c7c-ef4821eedd28"
      },
      "execution_count": 46,
      "outputs": [
        {
          "output_type": "stream",
          "name": "stdout",
          "text": [
            "+-------+---------------------+--------------+---------------------+----------+------------+----------+----------+--------+----------------+-----------+-------------+\n",
            "|country|density_per_square_km|fertility_rate|land_are_in_square_km|median_age|migrants_net|net_change|population|position|urban_population|world_share|yearly_change|\n",
            "+-------+---------------------+--------------+---------------------+----------+------------+----------+----------+--------+----------------+-----------+-------------+\n",
            "| Turkey|                  110|           2.1|               769630|        32|      283922|    909452|  84339067|      17|            0.76|     0.0108|       0.0109|\n",
            "|Germany|                  240|           1.6|               348560|        46|      543822|    266897|  83783942|      19|            0.76|     0.0107|       0.0032|\n",
            "+-------+---------------------+--------------+---------------------+----------+------------+----------+----------+--------+----------------+-----------+-------------+\n",
            "\n"
          ]
        }
      ]
    },
    {
      "cell_type": "markdown",
      "source": [
        "## Filter based on a NOT IN list"
      ],
      "metadata": {
        "id": "neu0abTNqivo"
      }
    },
    {
      "cell_type": "code",
      "source": [
        "df_zor = df_new1.where(~col(\"country\").isin([\"China\"]))"
      ],
      "metadata": {
        "id": "uVv0JQHPqjyG"
      },
      "execution_count": 47,
      "outputs": []
    },
    {
      "cell_type": "code",
      "source": [
        "df_zor.select(col(\"fertility_rate\"),col(\"country\").isin([\"China\"])).show()"
      ],
      "metadata": {
        "colab": {
          "base_uri": "https://localhost:8080/"
        },
        "id": "8C_ubiOKqv7n",
        "outputId": "601989c2-12c1-4b54-ad46-478b03dd3307"
      },
      "execution_count": 48,
      "outputs": [
        {
          "output_type": "stream",
          "name": "stdout",
          "text": [
            "+--------------+--------------------+\n",
            "|fertility_rate|(country IN (China))|\n",
            "+--------------+--------------------+\n",
            "|           2.2|               false|\n",
            "|           1.8|               false|\n",
            "|           2.3|               false|\n",
            "|           3.6|               false|\n",
            "|           1.7|               false|\n",
            "|           5.4|               false|\n",
            "|           2.1|               false|\n",
            "|           1.8|               false|\n",
            "|           2.1|               false|\n",
            "|           1.4|               false|\n",
            "|           4.3|               false|\n",
            "|           2.6|               false|\n",
            "|           3.3|               false|\n",
            "|           2.1|               false|\n",
            "|           6.0|               false|\n",
            "|           2.1|               false|\n",
            "|           2.2|               false|\n",
            "|           1.6|               false|\n",
            "|           1.5|               false|\n",
            "|           1.8|               false|\n",
            "+--------------+--------------------+\n",
            "only showing top 20 rows\n",
            "\n"
          ]
        }
      ]
    },
    {
      "cell_type": "markdown",
      "source": [
        "## Get Dataframe rows that match a substring"
      ],
      "metadata": {
        "id": "vNLX4exrubfp"
      }
    },
    {
      "cell_type": "code",
      "source": [
        "df_new1.where(df_new1.country.contains(\"Turkey\")).show()"
      ],
      "metadata": {
        "colab": {
          "base_uri": "https://localhost:8080/"
        },
        "id": "hPIHx4WkubHI",
        "outputId": "0a3e6c66-6028-45eb-8ac1-6b47c668575d"
      },
      "execution_count": 49,
      "outputs": [
        {
          "output_type": "stream",
          "name": "stdout",
          "text": [
            "+-------+---------------------+--------------+---------------------+----------+------------+----------+----------+--------+----------------+-----------+-------------+\n",
            "|country|density_per_square_km|fertility_rate|land_are_in_square_km|median_age|migrants_net|net_change|population|position|urban_population|world_share|yearly_change|\n",
            "+-------+---------------------+--------------+---------------------+----------+------------+----------+----------+--------+----------------+-----------+-------------+\n",
            "| Turkey|                  110|           2.1|               769630|        32|      283922|    909452|  84339067|      17|            0.76|     0.0108|       0.0109|\n",
            "+-------+---------------------+--------------+---------------------+----------+------------+----------+----------+--------+----------------+-----------+-------------+\n",
            "\n"
          ]
        }
      ]
    },
    {
      "cell_type": "markdown",
      "source": [
        "## Filter a Dataframe based on a custom substring search"
      ],
      "metadata": {
        "id": "R-KkVOJUvHIv"
      }
    },
    {
      "cell_type": "code",
      "source": [
        "df_new1.where(col(\"country\").like(\"T%\")).show()"
      ],
      "metadata": {
        "colab": {
          "base_uri": "https://localhost:8080/"
        },
        "id": "o09XA40-vJnZ",
        "outputId": "f70f1383-d1a2-4489-a0db-850e081505e6"
      },
      "execution_count": 50,
      "outputs": [
        {
          "output_type": "stream",
          "name": "stdout",
          "text": [
            "+-------------------+---------------------+--------------+---------------------+----------+------------+----------+----------+--------+----------------+-----------+-------------+\n",
            "|            country|density_per_square_km|fertility_rate|land_are_in_square_km|median_age|migrants_net|net_change|population|position|urban_population|world_share|yearly_change|\n",
            "+-------------------+---------------------+--------------+---------------------+----------+------------+----------+----------+--------+----------------+-----------+-------------+\n",
            "|             Turkey|                  110|           2.1|               769630|        32|      283922|    909452|  84339067|      17|            0.76|     0.0108|       0.0109|\n",
            "|           Thailand|                  137|           1.5|               510890|        40|       19444|    174396|  69799978|      20|            0.51|      0.009|       0.0025|\n",
            "|           Tanzania|                   67|           4.9|               885800|        18|      -40076|   1728755|  59734218|      24|            0.37|     0.0077|       0.0298|\n",
            "|             Taiwan|                  673|           1.2|                35410|        42|       30001|     42899|  23816775|      57|            0.79|     0.0031|       0.0018|\n",
            "|            Tunisia|                   76|           2.2|               155360|        33|       -4000|    123900|  11818619|      79|             0.7|     0.0015|       0.0106|\n",
            "|         Tajikistan|                   68|           3.6|               139960|        22|      -20000|    216627|   9537645|      95|            0.27|     0.0012|       0.0232|\n",
            "|               Togo|                  152|           4.4|                54390|        19|       -2000|    196358|   8278724|     102|            0.43|     0.0011|       0.0243|\n",
            "|       Turkmenistan|                   13|           2.8|               469930|        27|       -5000|     89111|   6031200|     113|            0.53|     8.0E-4|        0.015|\n",
            "|Trinidad and Tobago|                  273|           1.7|                 5130|        36|        -800|      4515|   1399488|     154|            0.52|     2.0E-4|       0.0032|\n",
            "|        Timor-Leste|                   89|           4.1|                14870|        21|       -5385|     25326|   1318445|     156|            0.33|     2.0E-4|       0.0196|\n",
            "|              Tonga|                  147|           3.6|                  720|        22|        -800|      1201|    105695|     198|            0.24|        0.0|       0.0115|\n",
            "|   Turks and Caicos|                   41|          NULL|                  950|      NULL|        NULL|       526|     38717|     215|            0.89|        0.0|       0.0138|\n",
            "|             Tuvalu|                  393|          NULL|                   30|      NULL|        NULL|       146|     11792|     225|            0.62|        0.0|       0.0125|\n",
            "|            Tokelau|                  136|          NULL|                   10|      NULL|        NULL|        17|      1357|     234|             0.0|        0.0|       0.0127|\n",
            "+-------------------+---------------------+--------------+---------------------+----------+------------+----------+----------+--------+----------------+-----------+-------------+\n",
            "\n"
          ]
        }
      ]
    },
    {
      "cell_type": "markdown",
      "source": [
        "## Filter based on a column's length"
      ],
      "metadata": {
        "id": "OB-JjEiMwVgC"
      }
    },
    {
      "cell_type": "code",
      "source": [
        "df_new1.where(length(col(\"country\")) < 5).show()"
      ],
      "metadata": {
        "colab": {
          "base_uri": "https://localhost:8080/"
        },
        "id": "zVx_ZYx2wXhg",
        "outputId": "034e62fd-b3b7-4274-fd66-d2762a87aac6"
      },
      "execution_count": 51,
      "outputs": [
        {
          "output_type": "stream",
          "name": "stdout",
          "text": [
            "+-------+---------------------+--------------+---------------------+----------+------------+----------+----------+--------+----------------+-----------+-------------+\n",
            "|country|density_per_square_km|fertility_rate|land_are_in_square_km|median_age|migrants_net|net_change|population|position|urban_population|world_share|yearly_change|\n",
            "+-------+---------------------+--------------+---------------------+----------+------------+----------+----------+--------+----------------+-----------+-------------+\n",
            "|   Iran|                   52|           2.2|              1628550|        32|      -55000|   1079043|  83992949|      18|            0.76|     0.0108|        0.013|\n",
            "|   Iraq|                   93|           3.7|               434320|        21|        7834|    912710|  40222493|      36|            0.73|     0.0052|       0.0232|\n",
            "|   Peru|                   26|           2.3|              1280000|        31|       99069|    461401|  32971854|      43|            0.79|     0.0042|       0.0142|\n",
            "|   Mali|                   17|           5.9|              1220190|        16|      -40000|    592802|  20250833|      60|            0.44|     0.0026|       0.0302|\n",
            "|   Chad|                   13|           5.8|              1259200|        17|        2000|    478988|  16425864|      72|            0.23|     0.0021|         0.03|\n",
            "|   Cuba|                  106|           1.6|               106440|        42|      -14400|     -6867|  11326616|      83|            0.78|     0.0015|      -6.0E-4|\n",
            "|   Togo|                  152|           4.4|                54390|        19|       -2000|    196358|   8278724|     102|            0.43|     0.0011|       0.0243|\n",
            "|   Laos|                   32|           2.7|               230800|        24|      -14704|    106105|   7275560|     105|            0.36|     9.0E-4|       0.0148|\n",
            "|   Oman|                   16|           2.9|               309500|        31|       87400|    131640|   5106626|     120|            0.87|     7.0E-4|       0.0265|\n",
            "|   Fiji|                   49|           2.8|                18270|        28|       -6202|      6492|    896445|     161|            0.59|     1.0E-4|       0.0073|\n",
            "|   Guam|                  313|           2.3|                  540|        31|        -506|      1481|    168775|     191|            0.95|        0.0|       0.0089|\n",
            "|   Niue|                    6|          NULL|                  260|      NULL|        NULL|        11|      1626|     233|            0.46|        0.0|       0.0068|\n",
            "+-------+---------------------+--------------+---------------------+----------+------------+----------+----------+--------+----------------+-----------+-------------+\n",
            "\n"
          ]
        }
      ]
    },
    {
      "cell_type": "markdown",
      "source": [
        "## Multiple filter conditions\n",
        "\n",
        "AND (&) Operator: Rows must meet all conditions to be included.\n",
        "\n",
        "OR (|) Operator: Rows can meet any of the conditions to be included."
      ],
      "metadata": {
        "id": "azXiMGWxyGbK"
      }
    },
    {
      "cell_type": "code",
      "source": [
        "df_new1.filter(((col(\"population\") < 500000000) & (col(\"fertility_rate\") < 2))).show()\n",
        "\n",
        "df_new1.filter(((col(\"population\") < 500000000) | (col(\"fertility_rate\") < 2))).show()"
      ],
      "metadata": {
        "colab": {
          "base_uri": "https://localhost:8080/"
        },
        "id": "cd_xRuulyY6p",
        "outputId": "83d998cf-92c4-48e6-ace4-55df4ca150b4"
      },
      "execution_count": 52,
      "outputs": [
        {
          "output_type": "stream",
          "name": "stdout",
          "text": [
            "+--------------+---------------------+--------------+---------------------+----------+------------+----------+----------+--------+----------------+-----------+-------------+\n",
            "|       country|density_per_square_km|fertility_rate|land_are_in_square_km|median_age|migrants_net|net_change|population|position|urban_population|world_share|yearly_change|\n",
            "+--------------+---------------------+--------------+---------------------+----------+------------+----------+----------+--------+----------------+-----------+-------------+\n",
            "| United States|                   36|           1.8|              9147420|        38|      954806|   1937734| 331002651|       3|            0.83|     0.0425|       0.0059|\n",
            "|        Brazil|                   25|           1.7|              8358140|        33|       21200|   1509890| 212559417|       6|            0.88|     0.0273|       0.0072|\n",
            "|        Russia|                    9|           1.8|             16376870|        40|      182456|     62206| 145934462|       9|            0.74|     0.0187|       4.0E-4|\n",
            "|         Japan|                  347|           1.4|               364555|        48|       71560|   -383840| 126476461|      11|            0.92|     0.0162|       -0.003|\n",
            "|       Germany|                  240|           1.6|               348560|        46|      543822|    266897|  83783942|      19|            0.76|     0.0107|       0.0032|\n",
            "|      Thailand|                  137|           1.5|               510890|        40|       19444|    174396|  69799978|      20|            0.51|      0.009|       0.0025|\n",
            "|United Kingdom|                  281|           1.8|               241930|        40|      260650|    355839|  67886011|      21|            0.83|     0.0087|       0.0053|\n",
            "|        France|                  119|           1.9|               547557|        42|       36527|    143783|  65273511|      22|            0.82|     0.0084|       0.0022|\n",
            "|         Italy|                  206|           1.3|               294140|        47|      148943|    -88249|  60461826|      23|            0.69|     0.0078|      -0.0015|\n",
            "|   South Korea|                  527|           1.1|                97230|        44|       11731|     43877|  51269185|      28|            0.82|     0.0066|       9.0E-4|\n",
            "|      Colombia|                   46|           1.8|              1109500|        31|      204796|    543448|  50882891|      29|             0.8|     0.0065|       0.0108|\n",
            "|         Spain|                   94|           1.3|               498800|        45|       40000|     18002|  46754778|      30|             0.8|      0.006|       4.0E-4|\n",
            "|       Ukraine|                   75|           1.4|               579320|        41|       10000|   -259876|  43733762|      35|            0.69|     0.0056|      -0.0059|\n",
            "|        Poland|                  124|           1.4|               306230|        42|      -29395|    -41157|  37846611|      38|             0.6|     0.0049|      -0.0011|\n",
            "|        Canada|                    4|           1.5|              9093510|        41|      242032|    331107|  37742154|      39|            0.81|     0.0048|       0.0089|\n",
            "|         Nepal|                  203|           1.9|               143350|        25|       41710|    528098|  29136808|      49|            0.21|     0.0037|       0.0185|\n",
            "|   North Korea|                  214|           1.9|               120410|        35|       -5403|    112655|  25778816|      54|            0.63|     0.0033|       0.0044|\n",
            "|     Australia|                    3|           1.8|              7682300|        38|      158246|    296686|  25499884|      55|            0.86|     0.0033|       0.0118|\n",
            "|        Taiwan|                  673|           1.2|                35410|        42|       30001|     42899|  23816775|      57|            0.79|     0.0031|       0.0018|\n",
            "|       Romania|                   84|           1.6|               230170|        43|      -73999|   -126866|  19237691|      61|            0.55|     0.0025|      -0.0066|\n",
            "+--------------+---------------------+--------------+---------------------+----------+------------+----------+----------+--------+----------------+-----------+-------------+\n",
            "only showing top 20 rows\n",
            "\n",
            "+--------------+---------------------+--------------+---------------------+----------+------------+----------+----------+--------+----------------+-----------+-------------+\n",
            "|       country|density_per_square_km|fertility_rate|land_are_in_square_km|median_age|migrants_net|net_change|population|position|urban_population|world_share|yearly_change|\n",
            "+--------------+---------------------+--------------+---------------------+----------+------------+----------+----------+--------+----------------+-----------+-------------+\n",
            "|         China|                  153|           1.7|              9388211|        38|     -348399|   5540090|1439323776|       1|            0.61|     0.1847|       0.0039|\n",
            "| United States|                   36|           1.8|              9147420|        38|      954806|   1937734| 331002651|       3|            0.83|     0.0425|       0.0059|\n",
            "|     Indonesia|                  151|           2.3|              1811570|        30|      -98955|   2898047| 273523615|       4|            0.56|     0.0351|       0.0107|\n",
            "|      Pakistan|                  287|           3.6|               770880|        23|     -233379|   4327022| 220892340|       5|            0.35|     0.0283|         0.02|\n",
            "|        Brazil|                   25|           1.7|              8358140|        33|       21200|   1509890| 212559417|       6|            0.88|     0.0273|       0.0072|\n",
            "|       Nigeria|                  226|           5.4|               910770|        18|      -60000|   5175990| 206139589|       7|            0.52|     0.0264|       0.0258|\n",
            "|    Bangladesh|                 1265|           2.1|               130170|        28|     -369501|   1643222| 164689383|       8|            0.39|     0.0211|       0.0101|\n",
            "|        Russia|                    9|           1.8|             16376870|        40|      182456|     62206| 145934462|       9|            0.74|     0.0187|       4.0E-4|\n",
            "|        Mexico|                   66|           2.1|              1943950|        29|      -60000|   1357224| 128932753|      10|            0.84|     0.0165|       0.0106|\n",
            "|         Japan|                  347|           1.4|               364555|        48|       71560|   -383840| 126476461|      11|            0.92|     0.0162|       -0.003|\n",
            "|      Ethiopia|                  115|           4.3|              1000000|        19|       30000|   2884858| 114963588|      12|            0.21|     0.0147|       0.0257|\n",
            "|   Philippines|                  368|           2.6|               298170|        26|      -67152|   1464463| 109581078|      13|            0.47|     0.0141|       0.0135|\n",
            "|         Egypt|                  103|           3.3|               995450|        25|      -38033|   1946331| 102334404|      14|            0.43|     0.0131|       0.0194|\n",
            "|       Vietnam|                  314|           2.1|               310070|        32|      -80000|    876473|  97338579|      15|            0.38|     0.0125|       0.0091|\n",
            "|      DR Congo|                   40|           6.0|              2267050|        17|       23861|   2770836|  89561403|      16|            0.46|     0.0115|       0.0319|\n",
            "|        Turkey|                  110|           2.1|               769630|        32|      283922|    909452|  84339067|      17|            0.76|     0.0108|       0.0109|\n",
            "|          Iran|                   52|           2.2|              1628550|        32|      -55000|   1079043|  83992949|      18|            0.76|     0.0108|        0.013|\n",
            "|       Germany|                  240|           1.6|               348560|        46|      543822|    266897|  83783942|      19|            0.76|     0.0107|       0.0032|\n",
            "|      Thailand|                  137|           1.5|               510890|        40|       19444|    174396|  69799978|      20|            0.51|      0.009|       0.0025|\n",
            "|United Kingdom|                  281|           1.8|               241930|        40|      260650|    355839|  67886011|      21|            0.83|     0.0087|       0.0053|\n",
            "+--------------+---------------------+--------------+---------------------+----------+------------+----------+----------+--------+----------------+-----------+-------------+\n",
            "only showing top 20 rows\n",
            "\n"
          ]
        }
      ]
    },
    {
      "cell_type": "markdown",
      "source": [
        "## **Some of the most commonly used operators:**\n",
        "\n",
        "**Comparison Operators:**\n",
        "\n",
        "Equality: ==\n",
        "\n",
        "Not Equal: !=\n",
        "\n",
        "Greater Than: >\n",
        "\n",
        "Greater Than or Equal To: >=\n",
        "\n",
        "Less Than: <\n",
        "\n",
        "Less Than or Equal To: <=\n",
        "\n",
        "\n",
        "**Logical Operators:**\n",
        "\n",
        "AND: &\n",
        "\n",
        "OR: |\n",
        "\n",
        "NOT: ~"
      ],
      "metadata": {
        "id": "9sDevwkd0av9"
      }
    },
    {
      "cell_type": "markdown",
      "source": [
        "## Sort DataFrame by a column and Limit"
      ],
      "metadata": {
        "id": "3ua_lflX6if1"
      }
    },
    {
      "cell_type": "code",
      "source": [
        "df_new1.orderBy(col(\"population\").desc()).limit(5).show()"
      ],
      "metadata": {
        "colab": {
          "base_uri": "https://localhost:8080/"
        },
        "id": "kTYEUBHB6hzs",
        "outputId": "57016376-da30-48fe-a04e-2202b48148a0"
      },
      "execution_count": 53,
      "outputs": [
        {
          "output_type": "stream",
          "name": "stdout",
          "text": [
            "+-------------+---------------------+--------------+---------------------+----------+------------+----------+----------+--------+----------------+-----------+-------------+\n",
            "|      country|density_per_square_km|fertility_rate|land_are_in_square_km|median_age|migrants_net|net_change|population|position|urban_population|world_share|yearly_change|\n",
            "+-------------+---------------------+--------------+---------------------+----------+------------+----------+----------+--------+----------------+-----------+-------------+\n",
            "|        China|                  153|           1.7|              9388211|        38|     -348399|   5540090|1439323776|       1|            0.61|     0.1847|       0.0039|\n",
            "|        India|                  464|           2.2|              2973190|        28|     -532687|  13586631|1380004385|       2|            0.35|      0.177|       0.0099|\n",
            "|United States|                   36|           1.8|              9147420|        38|      954806|   1937734| 331002651|       3|            0.83|     0.0425|       0.0059|\n",
            "|    Indonesia|                  151|           2.3|              1811570|        30|      -98955|   2898047| 273523615|       4|            0.56|     0.0351|       0.0107|\n",
            "|     Pakistan|                  287|           3.6|               770880|        23|     -233379|   4327022| 220892340|       5|            0.35|     0.0283|         0.02|\n",
            "+-------------+---------------------+--------------+---------------------+----------+------------+----------+----------+--------+----------------+-----------+-------------+\n",
            "\n"
          ]
        }
      ]
    },
    {
      "cell_type": "markdown",
      "source": [
        "## Check for Duplicates and Count: Use groupBy and count to identify duplicate values and their counts."
      ],
      "metadata": {
        "id": "SpofzcJ071nB"
      }
    },
    {
      "cell_type": "code",
      "source": [
        "# Group by the column \"population\" and count the occurrences\n",
        "duplicates_df = df_new1.groupBy(\"country\").count()\n",
        "\n",
        "# Filter to show only the duplicates\n",
        "duplicates_df = duplicates_df.filter(col(\"count\") > 1)\n",
        "\n",
        "# Display the duplicates and their counts\n",
        "duplicates_df.show()"
      ],
      "metadata": {
        "colab": {
          "base_uri": "https://localhost:8080/"
        },
        "id": "2RVlFD9W7uYl",
        "outputId": "b39d20b8-1cd3-4261-d49d-4fed66ed196f"
      },
      "execution_count": 54,
      "outputs": [
        {
          "output_type": "stream",
          "name": "stdout",
          "text": [
            "+-------+-----+\n",
            "|country|count|\n",
            "+-------+-----+\n",
            "+-------+-----+\n",
            "\n"
          ]
        }
      ]
    },
    {
      "cell_type": "markdown",
      "source": [
        "## Check for Duplicates in Each Column: Iterate over each column, group by that column, count the occurrences, and filter to show only duplicates."
      ],
      "metadata": {
        "id": "VjJ10mG-8b6j"
      }
    },
    {
      "cell_type": "code",
      "source": [
        "from pyspark.sql.functions import col, count\n",
        "\n",
        "def check_duplicates(df_new1):\n",
        "    columns = df_new1.columns\n",
        "    for column in columns:\n",
        "        duplicates_df1 = df_new1.groupBy(column).count().filter(col(\"count\") > 1).orderBy(col(\"count\").desc())\n",
        "        print(f\"Duplicates in column '{column}':\")\n",
        "        duplicates_df1.show()\n",
        "\n",
        "# Check for duplicates in each column of df_new1\n",
        "check_duplicates(df_new1)\n"
      ],
      "metadata": {
        "colab": {
          "base_uri": "https://localhost:8080/"
        },
        "id": "KPENT2Id8j6S",
        "outputId": "bf2dea18-4bab-4349-f337-092e8f89b550"
      },
      "execution_count": 55,
      "outputs": [
        {
          "output_type": "stream",
          "name": "stdout",
          "text": [
            "Duplicates in column 'country':\n",
            "+-------+-----+\n",
            "|country|count|\n",
            "+-------+-----+\n",
            "+-------+-----+\n",
            "\n",
            "Duplicates in column 'density_per_square_km':\n",
            "+---------------------+-----+\n",
            "|density_per_square_km|count|\n",
            "+---------------------+-----+\n",
            "|                   25|    8|\n",
            "|                    4|    6|\n",
            "|                   16|    5|\n",
            "|                   83|    5|\n",
            "|                   18|    5|\n",
            "|                  137|    3|\n",
            "|                   26|    3|\n",
            "|                    3|    3|\n",
            "|                   20|    3|\n",
            "|                   17|    3|\n",
            "|                   53|    2|\n",
            "|                  115|    2|\n",
            "|                   76|    2|\n",
            "|                  103|    2|\n",
            "|                  111|    2|\n",
            "|                   47|    2|\n",
            "|                   13|    2|\n",
            "|                   40|    2|\n",
            "|                  164|    2|\n",
            "|                   94|    2|\n",
            "+---------------------+-----+\n",
            "only showing top 20 rows\n",
            "\n",
            "Duplicates in column 'fertility_rate':\n",
            "+--------------+-----+\n",
            "|fertility_rate|count|\n",
            "+--------------+-----+\n",
            "|          NULL|   34|\n",
            "|           1.8|   14|\n",
            "|           1.5|   12|\n",
            "|           1.7|   10|\n",
            "|           2.3|   10|\n",
            "|           2.1|   10|\n",
            "|           1.9|   10|\n",
            "|           2.0|    9|\n",
            "|           1.6|    9|\n",
            "|           2.4|    9|\n",
            "|           1.3|    8|\n",
            "|           2.8|    7|\n",
            "|           1.4|    7|\n",
            "|           2.2|    6|\n",
            "|           3.6|    6|\n",
            "|           2.5|    5|\n",
            "|           4.4|    5|\n",
            "|           4.7|    5|\n",
            "|           4.6|    4|\n",
            "|           3.0|    4|\n",
            "+--------------+-----+\n",
            "only showing top 20 rows\n",
            "\n",
            "Duplicates in column 'land_are_in_square_km':\n",
            "+---------------------+-----+\n",
            "|land_are_in_square_km|count|\n",
            "+---------------------+-----+\n",
            "|                  460|    3|\n",
            "|                   10|    2|\n",
            "|                  240|    2|\n",
            "|                  390|    2|\n",
            "|                  260|    2|\n",
            "|                   30|    2|\n",
            "|                  700|    2|\n",
            "|                  180|    2|\n",
            "+---------------------+-----+\n",
            "\n",
            "Duplicates in column 'median_age':\n",
            "+----------+-----+\n",
            "|median_age|count|\n",
            "+----------+-----+\n",
            "|      NULL|   34|\n",
            "|        19|   14|\n",
            "|        28|   12|\n",
            "|        43|   11|\n",
            "|        32|   11|\n",
            "|        42|   10|\n",
            "|        18|   10|\n",
            "|        20|    9|\n",
            "|        30|    8|\n",
            "|        26|    7|\n",
            "|        22|    7|\n",
            "|        40|    7|\n",
            "|        38|    7|\n",
            "|        24|    7|\n",
            "|        31|    6|\n",
            "|        34|    6|\n",
            "|        17|    6|\n",
            "|        44|    5|\n",
            "|        41|    5|\n",
            "|        45|    5|\n",
            "+----------+-----+\n",
            "only showing top 20 rows\n",
            "\n",
            "Duplicates in column 'migrants_net':\n",
            "+------------+-----+\n",
            "|migrants_net|count|\n",
            "+------------+-----+\n",
            "|        NULL|   34|\n",
            "|           0|    5|\n",
            "|       -4000|    4|\n",
            "|       40000|    4|\n",
            "|        -800|    4|\n",
            "|      -10000|    4|\n",
            "|      -40000|    3|\n",
            "|        5000|    3|\n",
            "|       -5000|    3|\n",
            "|       -2000|    3|\n",
            "|       -1000|    3|\n",
            "|        1200|    3|\n",
            "|        -200|    3|\n",
            "|      -30000|    3|\n",
            "|        4000|    2|\n",
            "|       16000|    2|\n",
            "|       -6000|    2|\n",
            "|      -20000|    2|\n",
            "|       10000|    2|\n",
            "|         900|    2|\n",
            "+------------+-----+\n",
            "only showing top 20 rows\n",
            "\n",
            "Duplicates in column 'net_change':\n",
            "+----------+-----+\n",
            "|net_change|count|\n",
            "+----------+-----+\n",
            "|        68|    2|\n",
            "+----------+-----+\n",
            "\n",
            "Duplicates in column 'population':\n",
            "+----------+-----+\n",
            "|population|count|\n",
            "+----------+-----+\n",
            "+----------+-----+\n",
            "\n",
            "Duplicates in column 'position':\n",
            "+--------+-----+\n",
            "|position|count|\n",
            "+--------+-----+\n",
            "+--------+-----+\n",
            "\n",
            "Duplicates in column 'urban_population':\n",
            "+----------------+-----+\n",
            "|urban_population|count|\n",
            "+----------------+-----+\n",
            "|            NULL|   13|\n",
            "|            0.88|    7|\n",
            "|            0.57|    7|\n",
            "|            0.87|    6|\n",
            "|            0.63|    6|\n",
            "|            0.43|    6|\n",
            "|            0.35|    5|\n",
            "|             0.8|    5|\n",
            "|            0.74|    5|\n",
            "|            0.46|    5|\n",
            "|            0.52|    5|\n",
            "|            0.56|    5|\n",
            "|            0.73|    5|\n",
            "|            0.78|    4|\n",
            "|            0.18|    4|\n",
            "|            0.67|    4|\n",
            "|            0.38|    4|\n",
            "|            0.68|    4|\n",
            "|            0.79|    4|\n",
            "|            0.55|    4|\n",
            "+----------------+-----+\n",
            "only showing top 20 rows\n",
            "\n",
            "Duplicates in column 'world_share':\n",
            "+-----------+-----+\n",
            "|world_share|count|\n",
            "+-----------+-----+\n",
            "|        0.0|   57|\n",
            "|     1.0E-4|   20|\n",
            "|     3.0E-4|    9|\n",
            "|     7.0E-4|    8|\n",
            "|     2.0E-4|    8|\n",
            "|     4.0E-4|    8|\n",
            "|     0.0013|    7|\n",
            "|     6.0E-4|    6|\n",
            "|     0.0015|    6|\n",
            "|     0.0011|    5|\n",
            "|     9.0E-4|    5|\n",
            "|     8.0E-4|    5|\n",
            "|     5.0E-4|    5|\n",
            "|     0.0012|    4|\n",
            "|     0.0056|    3|\n",
            "|     0.0025|    3|\n",
            "|     0.0021|    3|\n",
            "|     0.0014|    3|\n",
            "|     0.0042|    3|\n",
            "|     0.0034|    2|\n",
            "+-----------+-----+\n",
            "only showing top 20 rows\n",
            "\n",
            "Duplicates in column 'yearly_change':\n",
            "+-------------+-----+\n",
            "|yearly_change|count|\n",
            "+-------------+-----+\n",
            "|       0.0148|    4|\n",
            "|       0.0097|    3|\n",
            "|       0.0025|    3|\n",
            "|       0.0032|    3|\n",
            "|       0.0067|    3|\n",
            "|       0.0044|    3|\n",
            "|       0.0106|    3|\n",
            "|       0.0242|    2|\n",
            "|       0.0093|    2|\n",
            "|       0.0035|    2|\n",
            "|       0.0121|    2|\n",
            "|       0.0185|    2|\n",
            "|       0.0139|    2|\n",
            "|       0.0138|    2|\n",
            "|       0.0245|    2|\n",
            "|       0.0072|    2|\n",
            "|       0.0071|    2|\n",
            "|       0.0063|    2|\n",
            "|       0.0053|    2|\n",
            "|       0.0046|    2|\n",
            "+-------------+-----+\n",
            "only showing top 20 rows\n",
            "\n"
          ]
        }
      ]
    }
  ]
}