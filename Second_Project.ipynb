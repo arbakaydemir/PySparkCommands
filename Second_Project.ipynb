{
  "cells": [
    {
      "cell_type": "markdown",
      "metadata": {
        "colab_type": "text",
        "id": "view-in-github"
      },
      "source": [
        "<a href=\"https://colab.research.google.com/github/arbakaydemir/PySparkCommands/blob/main/Second_Project.ipynb\" target=\"_parent\"><img src=\"https://colab.research.google.com/assets/colab-badge.svg\" alt=\"Open In Colab\"/></a>"
      ]
    },
    {
      "cell_type": "markdown",
      "metadata": {
        "id": "y5dJX6wQqS5u"
      },
      "source": [
        "# Operations at Airports\n",
        "Daily IFR arrivals and departures by airport\n",
        "\n",
        "EUROCONTROL is a pan-European, civil-military organisation dedicated to supporting European aviation.\n",
        "\n",
        "## Introduction\n",
        "\n",
        "### Overview of the Dataset\n",
        "\n",
        "The dataset contains detailed information about flight operations at various airports around the world. This dataset includes key metrics related to flight departures, arrivals, and total flights, both under Instrument Flight Rules (IFR) and general flight operations.\n",
        "\n",
        "### Dataset Description\n",
        "\n",
        "The dataset comprises the following columns:\n",
        "\n",
        "- **YEAR**: The year in which the flight data was recorded.\n",
        "- **MONTH_NUM**: The numerical representation of the month (e.g., 1 for January, 2 for February).\n",
        "- **MONTH_MON**: The abbreviated name of the month (e.g., JAN for January).\n",
        "- **FLT_DATE**: The date of the flight operations.\n",
        "- **APT_ICAO**: The ICAO code of the airport.\n",
        "- **APT_NAME**: The name of the airport.\n",
        "- **STATE_NAME**: The name of the state or country where the airport is located.\n",
        "- **FLT_DEP_1**: The number of flight departures.\n",
        "- **FLT_ARR_1**: The number of flight arrivals.\n",
        "- **FLT_TOT_1**: The total number of flights (departures + arrivals).\n",
        "- **FLT_DEP_IFR_2**: The number of IFR flight departures (may contain NULL values).\n",
        "- **FLT_ARR_IFR_2**: The number of IFR flight arrivals (may contain NULL values).\n",
        "- **FLT_TOT_IFR_2**: The total number of IFR flights (departures + arrivals, may contain NULL values).\n",
        "\n",
        "### Purpose of the Dataset\n",
        "\n",
        "This dataset is intended for use in aviation analysis, airport operations management, and transportation research. It can be utilized to:\n",
        "\n",
        "- Analyze flight traffic patterns and trends over time.\n",
        "- Study the distribution of flight operations across different airports and regions.\n",
        "- Examine the impact of IFR conditions on flight operations.\n",
        "- Explore seasonal variations in flight activity."
      ]
    },
    {
      "cell_type": "markdown",
      "metadata": {
        "id": "Ov43opE3WrIb"
      },
      "source": [
        "# Install and Import necessary Libraries and Pyspark"
      ]
    },
    {
      "cell_type": "code",
      "execution_count": null,
      "metadata": {
        "colab": {
          "base_uri": "https://localhost:8080/"
        },
        "id": "pB5E8hTkEpBo",
        "outputId": "94ecd870-df43-4bee-e8b5-0658d00ba091"
      },
      "outputs": [
        {
          "ename": "",
          "evalue": "",
          "output_type": "error",
          "traceback": [
            "\u001b[1;31mRunning cells with 'Python 3.12.3' requires the ipykernel package.\n",
            "\u001b[1;31mRun the following command to install 'ipykernel' into the Python environment. \n",
            "\u001b[1;31mCommand: '/bin/python3 -m pip install ipykernel -U --user --force-reinstall'"
          ]
        }
      ],
      "source": [
        "# Install PySpark in Google Colab\n",
        "!pip install pyspark"
      ]
    },
    {
      "cell_type": "code",
      "execution_count": null,
      "metadata": {
        "id": "VcpViFcVFScO"
      },
      "outputs": [],
      "source": [
        "#Import the pySpark\n",
        "import pyspark\n",
        "\n",
        "#Import necessary libraries\n",
        "from pyspark.sql import SparkSession\n",
        "from pyspark.sql.functions import *\n",
        "\n",
        "#Creating a Spark Session\n",
        "spark = SparkSession.builder.appName(\"Airport_Traffic\").getOrCreate()"
      ]
    },
    {
      "cell_type": "code",
      "execution_count": null,
      "metadata": {
        "colab": {
          "base_uri": "https://localhost:8080/"
        },
        "id": "cPdBlLhAGg-M",
        "outputId": "e8da3171-1dc1-4018-e210-adc3ddc831a7"
      },
      "outputs": [],
      "source": [
        "#Mounting google drive to access dataset\n",
        "from google.colab import drive\n",
        "\n",
        "drive.mount('/content/gdrive')"
      ]
    },
    {
      "cell_type": "markdown",
      "metadata": {
        "id": "1I7aDttVWl5a"
      },
      "source": [
        "# Loading the Dataset from Google Drive"
      ]
    },
    {
      "cell_type": "code",
      "execution_count": null,
      "metadata": {
        "colab": {
          "base_uri": "https://localhost:8080/"
        },
        "id": "2buLviV2RfjI",
        "outputId": "9462f964-6b8a-4a99-81a8-3b2628b2a98b"
      },
      "outputs": [],
      "source": [
        "#Loading the dataset\n",
        "file_path = \"/content/gdrive/MyDrive/Colab Notebooks/Second Project/airport_traffic_2024.csv\"\n",
        "\n",
        "# Read the CSV file into a DataFrame\n",
        "df = spark.read.csv(file_path, header=True, inferSchema=True)\n",
        "\n",
        "# Show the first few rows\n",
        "df.show(5)\n",
        "\n",
        "# Display the schema of the dataset\n",
        "df.printSchema()"
      ]
    },
    {
      "cell_type": "markdown",
      "metadata": {
        "id": "kSac6_PeWhQR"
      },
      "source": [
        "# Some Exploration"
      ]
    },
    {
      "cell_type": "code",
      "execution_count": null,
      "metadata": {
        "colab": {
          "base_uri": "https://localhost:8080/"
        },
        "id": "L2NF8-FzVFAt",
        "outputId": "b658b68e-34be-45d5-d29c-806c745ec7dd"
      },
      "outputs": [],
      "source": [
        "#number of columns\n",
        "len(df.columns)"
      ]
    },
    {
      "cell_type": "code",
      "execution_count": null,
      "metadata": {
        "colab": {
          "base_uri": "https://localhost:8080/"
        },
        "id": "a6-OnnBdWdbr",
        "outputId": "ed47976e-98bb-4fa2-905a-bfdb4ba25b7a"
      },
      "outputs": [],
      "source": [
        "#return the total number of rows (or records) present in the df DataFrame.\n",
        "df.count()"
      ]
    },
    {
      "cell_type": "code",
      "execution_count": null,
      "metadata": {
        "colab": {
          "base_uri": "https://localhost:8080/"
        },
        "id": "vvYXZnE7Wfhp",
        "outputId": "d3f27d5c-05c4-4c60-a38c-17e31b2aeaca"
      },
      "outputs": [],
      "source": [
        "# to count the number of unique rows in a DataFrame called df.\n",
        "df.distinct().count()"
      ]
    },
    {
      "cell_type": "markdown",
      "metadata": {
        "id": "dojc-4BNQucW"
      },
      "source": [
        "## Selecting Specific Month"
      ]
    },
    {
      "cell_type": "code",
      "execution_count": null,
      "metadata": {
        "colab": {
          "base_uri": "https://localhost:8080/"
        },
        "id": "mOMUk-3sUMoa",
        "outputId": "be2622d8-bc4d-41b5-8995-a3dfe1896798"
      },
      "outputs": [],
      "source": [
        "df_december = df.filter(col(\"MONTH_NUM\") == 12)\n",
        "df_december.show(5)"
      ]
    },
    {
      "cell_type": "code",
      "execution_count": null,
      "metadata": {
        "colab": {
          "base_uri": "https://localhost:8080/"
        },
        "id": "gSWUSppdURxZ",
        "outputId": "d46d854e-8b41-4f3b-ef4f-94fc7ffa62d0"
      },
      "outputs": [],
      "source": [
        "#return the total number of rows (or records) present in the df DataFrame.\n",
        "df_december.count()"
      ]
    },
    {
      "cell_type": "code",
      "execution_count": null,
      "metadata": {
        "colab": {
          "base_uri": "https://localhost:8080/"
        },
        "id": "pCyVvFI4UZ5y",
        "outputId": "adc702a6-d813-4d1e-a897-80d0ddc17ded"
      },
      "outputs": [],
      "source": [
        "# to count the number of unique rows in a DataFrame called df.\n",
        "df_december.distinct().count()"
      ]
    },
    {
      "cell_type": "code",
      "execution_count": null,
      "metadata": {
        "colab": {
          "base_uri": "https://localhost:8080/"
        },
        "id": "xIjOXzEOVEd4",
        "outputId": "2951b247-3a35-49b3-db73-849e894f1870"
      },
      "outputs": [],
      "source": [
        "df_december.groupBy(\"STATE_NAME\").count().show()"
      ]
    },
    {
      "cell_type": "code",
      "execution_count": null,
      "metadata": {
        "colab": {
          "base_uri": "https://localhost:8080/"
        },
        "id": "aalhd7NsWEZ4",
        "outputId": "2c55ec5b-6d19-4eee-c0d4-e6a4b0e58c56"
      },
      "outputs": [],
      "source": [
        "#Ordering the number of Airports by State\n",
        "df_december.groupBy(\"STATE_NAME\").count().orderBy(desc(\"count\")).show()"
      ]
    },
    {
      "cell_type": "code",
      "execution_count": null,
      "metadata": {
        "colab": {
          "base_uri": "https://localhost:8080/"
        },
        "id": "rBi9H2UOXsf9",
        "outputId": "e4cc719b-8eaa-4636-fc83-7ea7746da6d5"
      },
      "outputs": [],
      "source": [
        "#Total number of flights\n",
        "df_december_summary = df_december.groupBy(\"STATE_NAME\").agg(\n",
        "    sum(\"FLT_TOT_1\").alias(\"Total December Flights\")\n",
        ").orderBy(col(\"Total December Flights\").desc()).show()"
      ]
    },
    {
      "cell_type": "markdown",
      "metadata": {
        "id": "qeVrBb40apa7"
      },
      "source": [
        "This shows us busiest state is Spain and France has most airports. However when we check Google, total number of airports in France is 169. That means we have some issues with our calculation."
      ]
    },
    {
      "cell_type": "code",
      "execution_count": null,
      "metadata": {
        "colab": {
          "base_uri": "https://localhost:8080/"
        },
        "id": "sjnDALa1bcLK",
        "outputId": "76634a56-f53b-438a-9df7-ac72a650f184"
      },
      "outputs": [],
      "source": [
        "#Let's count again. Now, we will use \"countDistinct\" to calculate the unique airports per state\n",
        "df_december.groupBy(\"STATE_NAME\").agg(\n",
        "    countDistinct(\"APT_ICAO\").alias(\"Unique Airports\")\n",
        ").orderBy(col(\"Unique Airports\").desc()).show()"
      ]
    },
    {
      "cell_type": "code",
      "execution_count": null,
      "metadata": {
        "colab": {
          "base_uri": "https://localhost:8080/"
        },
        "id": "K2goj4Veb9zJ",
        "outputId": "9d824327-1f3d-4c93-e0fc-82dda8559b2e"
      },
      "outputs": [],
      "source": [
        "df_december_Türkiye = df_december.filter(col(\"STATE_NAME\") == \"Türkiye\")\n",
        "df_december_Türkiye.show()"
      ]
    },
    {
      "cell_type": "code",
      "execution_count": null,
      "metadata": {
        "colab": {
          "base_uri": "https://localhost:8080/"
        },
        "id": "6DtychcPc88w",
        "outputId": "90c93ac7-8677-4988-a152-8a489e6fe6df"
      },
      "outputs": [],
      "source": [
        "df_december_Türkiye.groupBy(\"APT_NAME\").agg(\n",
        "    countDistinct(\"APT_NAME\").alias(\"Airport Numbers\")).show()"
      ]
    },
    {
      "cell_type": "code",
      "execution_count": null,
      "metadata": {
        "colab": {
          "base_uri": "https://localhost:8080/"
        },
        "id": "sW1I6nqslDmy",
        "outputId": "5244e31f-8b71-4142-854c-623679c0abdb"
      },
      "outputs": [],
      "source": [
        "df_december_Türkiye.agg(countDistinct(\"APT_NAME\").alias(\"Airport Numbers\")).show()"
      ]
    },
    {
      "cell_type": "code",
      "execution_count": null,
      "metadata": {
        "colab": {
          "base_uri": "https://localhost:8080/"
        },
        "id": "B40wuX1hmZr3",
        "outputId": "bf5a7693-fc5a-429a-9751-2ef646bf830b"
      },
      "outputs": [],
      "source": [
        "df_december_Türkiye.show()"
      ]
    },
    {
      "cell_type": "code",
      "execution_count": null,
      "metadata": {
        "colab": {
          "base_uri": "https://localhost:8080/"
        },
        "id": "YKgzcUWynFYW",
        "outputId": "c35eb06c-b161-4df3-a3cd-49678f7853a5"
      },
      "outputs": [],
      "source": [
        "df_december_Türkiye.filter(col(\"FLT_TOT_1\") > 100).orderBy(desc(\"FLT_TOT_1\")).show()"
      ]
    },
    {
      "cell_type": "markdown",
      "metadata": {
        "id": "BP0khEzuogcN"
      },
      "source": [
        "## Inspecting Data"
      ]
    },
    {
      "cell_type": "code",
      "execution_count": null,
      "metadata": {
        "colab": {
          "base_uri": "https://localhost:8080/"
        },
        "id": "9TE6RZfCorRe",
        "outputId": "4b7812b8-6bfc-4bce-8e10-a447f52bff3d"
      },
      "outputs": [],
      "source": [
        "df_december_Türkiye.printSchema()"
      ]
    },
    {
      "cell_type": "code",
      "execution_count": null,
      "metadata": {
        "colab": {
          "base_uri": "https://localhost:8080/"
        },
        "id": "tqs7afy1ptTK",
        "outputId": "e3aec590-298b-406e-a90c-3e8bc57d9365"
      },
      "outputs": [],
      "source": [
        "df_december_Türkiye.describe().show()"
      ]
    },
    {
      "cell_type": "code",
      "execution_count": null,
      "metadata": {
        "colab": {
          "base_uri": "https://localhost:8080/"
        },
        "id": "gvHUJriPqDwg",
        "outputId": "0395ec2c-4b5f-4a3d-965b-79910061d6c1"
      },
      "outputs": [],
      "source": [
        "print(df_december_Türkiye.dtypes)"
      ]
    },
    {
      "cell_type": "code",
      "execution_count": null,
      "metadata": {
        "colab": {
          "base_uri": "https://localhost:8080/"
        },
        "id": "msRcLDJwqSo7",
        "outputId": "ed433f42-73b6-4157-efe0-8959602bd209"
      },
      "outputs": [],
      "source": [
        "print(df_december_Türkiye.columns)"
      ]
    },
    {
      "cell_type": "code",
      "execution_count": null,
      "metadata": {
        "colab": {
          "base_uri": "https://localhost:8080/"
        },
        "id": "2N5Ozc7ExkM5",
        "outputId": "f24d40b2-ff42-4edc-954d-c72edbb325cb"
      },
      "outputs": [],
      "source": [
        "df_december_Türkiye.count()"
      ]
    },
    {
      "cell_type": "code",
      "execution_count": null,
      "metadata": {
        "colab": {
          "base_uri": "https://localhost:8080/"
        },
        "id": "7NGTrPx8x5Q6",
        "outputId": "fcdf9273-8ff3-4346-affa-8bb04cb2b42a"
      },
      "outputs": [],
      "source": [
        "first_three_rows = df_december_Türkiye.take(3)\n",
        "print(first_three_rows)"
      ]
    },
    {
      "cell_type": "code",
      "execution_count": null,
      "metadata": {
        "colab": {
          "base_uri": "https://localhost:8080/"
        },
        "id": "On8v6UbVyXk6",
        "outputId": "c3054fb5-329b-4372-9892-656d2c94578b"
      },
      "outputs": [],
      "source": [
        "is_empty = df_december_Türkiye.isEmpty()\n",
        "print(f\"Is the DataFrame empty? {is_empty}\")"
      ]
    },
    {
      "cell_type": "code",
      "execution_count": null,
      "metadata": {
        "colab": {
          "base_uri": "https://localhost:8080/"
        },
        "id": "uiLAEOznyptZ",
        "outputId": "de8e087e-9484-4a1a-dfb0-fbe0c1c648e1"
      },
      "outputs": [],
      "source": [
        "df_december_Türkiye.cache()"
      ]
    },
    {
      "cell_type": "code",
      "execution_count": null,
      "metadata": {
        "colab": {
          "base_uri": "https://localhost:8080/"
        },
        "id": "89UeAXSQy6cR",
        "outputId": "96bc568a-fc4d-45b0-aa55-53432499674d"
      },
      "outputs": [],
      "source": [
        "df_unique_airports = df_december_Türkiye.select(\"APT_NAME\").distinct()\n",
        "df_unique_airports.show()"
      ]
    },
    {
      "cell_type": "code",
      "execution_count": null,
      "metadata": {
        "colab": {
          "base_uri": "https://localhost:8080/"
        },
        "id": "pe9uhCz2zCyo",
        "outputId": "72eabe09-f18b-4dfe-e2b0-edb2d4a7ea09"
      },
      "outputs": [],
      "source": [
        "df_unique_airports = df_december_Türkiye.select(\"FLT_DEP_1\").distinct()\n",
        "df_unique_airports.show()\n"
      ]
    },
    {
      "cell_type": "code",
      "execution_count": null,
      "metadata": {
        "colab": {
          "base_uri": "https://localhost:8080/"
        },
        "id": "8W77ZCiQzafq",
        "outputId": "8b3468cb-5bf0-46a6-c178-5b64a39e3f23"
      },
      "outputs": [],
      "source": [
        "sample_data = df_december_Türkiye.sample(fraction=0.1)\n",
        "sample_data.show()"
      ]
    },
    {
      "cell_type": "code",
      "execution_count": null,
      "metadata": {
        "colab": {
          "base_uri": "https://localhost:8080/"
        },
        "id": "uasxwhYMzcUR",
        "outputId": "e99a7e2f-3c69-479c-8d8b-f93a5ea2ffa3"
      },
      "outputs": [],
      "source": [
        "sample_data.count()"
      ]
    },
    {
      "cell_type": "code",
      "execution_count": null,
      "metadata": {
        "colab": {
          "base_uri": "https://localhost:8080/"
        },
        "id": "ZhQndd9jzy7B",
        "outputId": "c6fd0795-303f-46f1-dc60-5ad89f2cccdc"
      },
      "outputs": [],
      "source": [
        "first_row = df_december_Türkiye.first()\n",
        "print(first_row)"
      ]
    },
    {
      "cell_type": "code",
      "execution_count": null,
      "metadata": {
        "colab": {
          "base_uri": "https://localhost:8080/"
        },
        "id": "rfCj9cqP0Uwn",
        "outputId": "0730e45d-13a1-46a7-ace3-de955c795fe8"
      },
      "outputs": [],
      "source": [
        "limited_data = df_december_Türkiye.limit(10)\n",
        "limited_data.show()"
      ]
    },
    {
      "cell_type": "markdown",
      "metadata": {
        "id": "wPSrT_dJ0ns1"
      },
      "source": [
        "# Data Cleaning"
      ]
    },
    {
      "cell_type": "markdown",
      "metadata": {
        "id": "knPRF4dK1Udn"
      },
      "source": [
        "## Checking for Null Values"
      ]
    },
    {
      "cell_type": "code",
      "execution_count": null,
      "metadata": {
        "colab": {
          "base_uri": "https://localhost:8080/"
        },
        "id": "3L60-eMv1aK1",
        "outputId": "b46d3a74-0bf9-4050-d680-a9e833c56d07"
      },
      "outputs": [],
      "source": [
        "df_december_Türkiye.filter(col(\"APT_ICAO\").isNull()).show()\n",
        "df_december_Türkiye.filter(col(\"APT_NAME\").isNull()).show()\n",
        "df_december_Türkiye.filter(col(\"STATE_NAME\").isNull()).show()\n",
        "df_december_Türkiye.filter(col(\"FLT_DEP_1\").isNull()).show()\n",
        "df_december_Türkiye.filter(col(\"FLT_ARR_1\").isNull()).show()\n",
        "df_december_Türkiye.filter(col(\"FLT_TOT_1\").isNull()).show()"
      ]
    },
    {
      "cell_type": "code",
      "execution_count": null,
      "metadata": {
        "colab": {
          "base_uri": "https://localhost:8080/"
        },
        "id": "MnA617QV1fOL",
        "outputId": "04e95b65-170d-457e-e899-09098a5098b5"
      },
      "outputs": [],
      "source": [
        "null_count = df_december_Türkiye.filter(col(\"APT_ICAO\").isNull()).count()\n",
        "print(f\"Number of null values in APT_ICAO: {null_count}\")\n",
        "\n",
        "null_count = df_december_Türkiye.filter(col(\"APT_NAME\").isNull()).count()\n",
        "print(f\"Number of null values in APT_NAME: {null_count}\")\n",
        "\n",
        "null_count = df_december_Türkiye.filter(col(\"STATE_NAME\").isNull()).count()\n",
        "print(f\"Number of null values in STATE_NAME: {null_count}\")\n",
        "\n",
        "null_count = df_december_Türkiye.filter(col(\"FLT_DEP_1\").isNull()).count()\n",
        "print(f\"Number of null values in FLT_DEP_1: {null_count}\")\n",
        "\n",
        "null_count = df_december_Türkiye.filter(col(\"FLT_ARR_1\").isNull()).count()\n",
        "print(f\"Number of null values in FLT_ARR_1: {null_count}\")\n",
        "\n",
        "null_count = df_december_Türkiye.filter(col(\"FLT_TOT_1\").isNull()).count()\n",
        "print(f\"Number of null values in FLT_TOT_1: {null_count}\")"
      ]
    },
    {
      "cell_type": "code",
      "execution_count": null,
      "metadata": {
        "id": "9yj84k3v2YI1"
      },
      "outputs": [],
      "source": [
        "df_december_Türkiye = df_december_Türkiye.dropna(subset=[\"FLT_TOT_1\"])\n"
      ]
    },
    {
      "cell_type": "code",
      "execution_count": null,
      "metadata": {
        "id": "eqHq5mkV_ai9"
      },
      "outputs": [],
      "source": [
        "df_december_Türkiye = df_december_Türkiye.fillna({\"FLT_TOT_1\": 0})\n"
      ]
    },
    {
      "cell_type": "code",
      "execution_count": null,
      "metadata": {
        "colab": {
          "base_uri": "https://localhost:8080/"
        },
        "id": "k2jdRaqPCZc9",
        "outputId": "187afc2c-f997-4285-e570-b1904ea683d7"
      },
      "outputs": [],
      "source": [
        "# Filter for rows where FLT_TOT_1 is 0\n",
        "zero_flights_count = df_december_Türkiye.filter(col(\"FLT_TOT_1\") == 0).count()\n",
        "\n",
        "# Print the count\n",
        "print(f\"Number of rows with FLT_TOT_1 equal to 0: {zero_flights_count}\")"
      ]
    },
    {
      "cell_type": "code",
      "execution_count": null,
      "metadata": {
        "id": "xXm7W-ZaHGVd"
      },
      "outputs": [],
      "source": [
        "df_december_Türkiye = df_december_Türkiye.withColumnRenamed(\"FLT_DEP_1\", \"DEPARTURES\")\n",
        "df_december_Türkiye = df_december_Türkiye.withColumnRenamed(\"FLT_ARR_1\", \"ARRIVALS\")\n",
        "df_december_Türkiye = df_december_Türkiye.withColumnRenamed(\"FLT_TOT_1\", \"TOTAL FLIGHTS\")\n",
        "df_december_Türkiye = df_december_Türkiye.withColumnRenamed(\"FLT_TOT_1\", \"TOTAL FLIGHTS\")\n",
        "df_december_Türkiye = df_december_Türkiye.withColumnRenamed(\"STATE_NAME\", \"STATE NAME\")\n",
        "df_december_Türkiye = df_december_Türkiye.withColumnRenamed(\"APT_NAME\", \"AIRPORT NAME\")\n",
        "df_december_Türkiye = df_december_Türkiye.withColumnRenamed(\"APT_ICAO\", \"AIRPORT CODE\")\n",
        "df_december_Türkiye = df_december_Türkiye.withColumnRenamed(\"MONTH_NUM\", \"MONTH NO\")\n",
        "df_december_Türkiye = df_december_Türkiye.withColumnRenamed(\"FLT_DATE\", \"FLIGHT DATE\")\n",
        "df_december_Türkiye = df_december_Türkiye.withColumnRenamed(\"YEAR_NUM\", \"YEAR NO\")\n",
        "\n"
      ]
    },
    {
      "cell_type": "code",
      "execution_count": null,
      "metadata": {
        "colab": {
          "base_uri": "https://localhost:8080/"
        },
        "id": "JETzTENfIQZj",
        "outputId": "36b01bb0-1b89-4584-d4dd-405feb5e0aa3"
      },
      "outputs": [],
      "source": [
        "df_december_Türkiye.show(5)"
      ]
    },
    {
      "cell_type": "code",
      "execution_count": null,
      "metadata": {
        "colab": {
          "base_uri": "https://localhost:8080/"
        },
        "id": "fRTGhd3ZKYZc",
        "outputId": "622a091c-9d44-4490-e5eb-d393bfa02317"
      },
      "outputs": [],
      "source": [
        "df_december_Türkiye = df_december_Türkiye.drop(\"FLT_DEP_IFR_2\", \"FLT_ARR_IFR_2\", \"FLT_TOT_IFR_2\")\n",
        "df_december_Türkiye.show()"
      ]
    },
    {
      "cell_type": "code",
      "execution_count": null,
      "metadata": {
        "colab": {
          "base_uri": "https://localhost:8080/"
        },
        "id": "3yA_VZ02LjXX",
        "outputId": "ad055478-3575-4bab-fc11-83ddb12f358b"
      },
      "outputs": [],
      "source": [
        "df_december_Türkiye.groupBy(\"AIRPORT NAME\").agg(\n",
        "    sum(\"TOTAL FLIGHTS\").alias(\"Total Number of Flights\")\n",
        ").orderBy(col(\"Total Number of Flights\").desc()).show()"
      ]
    },
    {
      "cell_type": "code",
      "execution_count": null,
      "metadata": {
        "colab": {
          "base_uri": "https://localhost:8080/"
        },
        "id": "gWYoCwx9PEVM",
        "outputId": "03bfa4e5-9b92-4a69-ca6a-19a7d4b4eb64"
      },
      "outputs": [],
      "source": [
        "df_december_Türkiye.groupBy(\"AIRPORT NAME\").agg(\n",
        "    sum(\"DEPARTURES\").alias(\"Total Number of Departures\")\n",
        ").orderBy(col(\"Total Number of Departures\").desc()).show()"
      ]
    },
    {
      "cell_type": "code",
      "execution_count": null,
      "metadata": {
        "colab": {
          "base_uri": "https://localhost:8080/"
        },
        "id": "FQZADCtEPtPT",
        "outputId": "82a8cf7b-20c5-4728-d0e1-5505d20ca6dc"
      },
      "outputs": [],
      "source": [
        "df_december_Türkiye.groupBy(\"AIRPORT NAME\").agg(\n",
        "    sum(\"ARRIVALS\").alias(\"Total Number of Arrivals\")\n",
        ").orderBy(col(\"Total Number of Arrivals\").desc()).show()"
      ]
    },
    {
      "cell_type": "markdown",
      "metadata": {
        "id": "YtWjaFitQV2i"
      },
      "source": [
        "## Adding New Columns"
      ]
    },
    {
      "cell_type": "code",
      "execution_count": null,
      "metadata": {
        "colab": {
          "base_uri": "https://localhost:8080/"
        },
        "id": "qRpDZQ_cQP6S",
        "outputId": "5acea5e9-398a-4b60-c366-027e7ae37c60"
      },
      "outputs": [],
      "source": [
        "df_december_Türkiye.show(5)"
      ]
    },
    {
      "cell_type": "code",
      "execution_count": null,
      "metadata": {
        "colab": {
          "base_uri": "https://localhost:8080/"
        },
        "id": "l0GQkjklQiTM",
        "outputId": "5f040230-59c2-473b-a3bd-f1e8b1c02d5d"
      },
      "outputs": [],
      "source": [
        "df_december_Türkiye.select(\"FLIGHT DATE\").show()"
      ]
    },
    {
      "cell_type": "code",
      "execution_count": null,
      "metadata": {
        "colab": {
          "base_uri": "https://localhost:8080/"
        },
        "id": "v7G_zepZQ8Fx",
        "outputId": "3b8044a9-f4ed-47a6-ccb9-c75bd435ac01"
      },
      "outputs": [],
      "source": [
        "df_december_Türkiye.select(\"FLIGHT DATE\").distinct().show()"
      ]
    },
    {
      "cell_type": "code",
      "execution_count": null,
      "metadata": {
        "colab": {
          "base_uri": "https://localhost:8080/"
        },
        "id": "gf_jdlbvRQ45",
        "outputId": "794f2498-d38f-45ff-b6cd-0d049e105e59"
      },
      "outputs": [],
      "source": [
        "df_december_Türkiye.select(countDistinct(\"FLIGHT DATE\")).show()"
      ]
    },
    {
      "cell_type": "code",
      "execution_count": null,
      "metadata": {
        "colab": {
          "base_uri": "https://localhost:8080/"
        },
        "id": "4Dcto3j2TjGf",
        "outputId": "871ce59f-2431-4eb7-ba44-67ec8f92908c"
      },
      "outputs": [],
      "source": [
        "df_december_Türkiye.groupBy(\"AIRPORT NAME\").agg(\n",
        "    sum(\"TOTAL FLIGHTS\").alias(\"Total Number of Flights\"),\n",
        "    sum(\"DEPARTURES\").alias(\"Total Number of Departures\"),\n",
        "    sum(\"ARRIVALS\").alias(\"Total Number of Arrivals\")\n",
        ").show()"
      ]
    },
    {
      "cell_type": "code",
      "execution_count": null,
      "metadata": {
        "colab": {
          "base_uri": "https://localhost:8080/"
        },
        "id": "8gPg7qYyTwBP",
        "outputId": "2a956eef-d843-45a9-c3b7-597f7625911d"
      },
      "outputs": [],
      "source": [
        "df_december_Türkiye.groupBy(\"FLIGHT DATE\").agg(\n",
        "    sum(\"TOTAL FLIGHTS\").alias(\"Total Number of Flights\"),\n",
        "    sum(\"DEPARTURES\").alias(\"Total Number of Departures\"),\n",
        "    sum(\"ARRIVALS\").alias(\"Total Number of Arrivals\")\n",
        "    ).orderBy(col(\"Total Number of Flights\").desc()).show()"
      ]
    },
    {
      "cell_type": "code",
      "execution_count": null,
      "metadata": {
        "colab": {
          "base_uri": "https://localhost:8080/"
        },
        "id": "SVBTEubCU_--",
        "outputId": "c3ef0454-f324-4fba-ff2f-9e04b305a0fe"
      },
      "outputs": [],
      "source": [
        "df_december_Türkiye.groupBy(\"FLIGHT DATE\", \"AIRPORT NAME\").agg(\n",
        "    sum(\"TOTAL FLIGHTS\").alias(\"Total Number of Flights\"),\n",
        "    sum(\"DEPARTURES\").alias(\"Total Number of Departures\"),\n",
        "    sum(\"ARRIVALS\").alias(\"Total Number of Arrivals\")\n",
        ").orderBy(col(\"Total Number of Flights\").desc()).show()"
      ]
    },
    {
      "cell_type": "code",
      "execution_count": null,
      "metadata": {
        "colab": {
          "base_uri": "https://localhost:8080/"
        },
        "id": "dmrIngwPWkQd",
        "outputId": "3fd55e29-5a11-4436-a6d5-07190f05ce35"
      },
      "outputs": [],
      "source": [
        "from pyspark.sql.window import Window\n",
        "\n",
        "window_spec = Window.partitionBy(\"AIRPORT NAME\").orderBy(col(\"Total Number of Flights\").desc())\n",
        "\n",
        "df_busiest_days = df_december_Türkiye.groupBy(\"FLIGHT DATE\", \"AIRPORT NAME\").agg(\n",
        "    sum(\"TOTAL FLIGHTS\").alias(\"Total Number of Flights\")\n",
        ").withColumn(\"rank\", row_number().over(window_spec)) \\\n",
        ".filter(col(\"rank\") == 1) \\\n",
        ".drop(\"rank\") \\\n",
        ".orderBy(col(\"Total Number of Flights\").desc()) \\\n",
        ".show()"
      ]
    },
    {
      "cell_type": "code",
      "execution_count": null,
      "metadata": {
        "colab": {
          "base_uri": "https://localhost:8080/"
        },
        "id": "VNFpVSzamBfB",
        "outputId": "ca81ade2-c84d-4780-fe14-348f444640d0"
      },
      "outputs": [],
      "source": [
        "df_december_Türkiye = df_december_Türkiye.withColumn('Difference Between Arrivals and Departures', col('ARRIVALS') - col('DEPARTURES')).show()"
      ]
    }
  ],
  "metadata": {
    "colab": {
      "authorship_tag": "ABX9TyPWu50p2FTwDUEnEs7UldSJ",
      "include_colab_link": true,
      "provenance": []
    },
    "kernelspec": {
      "display_name": "Python 3",
      "name": "python3"
    },
    "language_info": {
      "name": "python",
      "version": "3.12.3"
    }
  },
  "nbformat": 4,
  "nbformat_minor": 0
}
